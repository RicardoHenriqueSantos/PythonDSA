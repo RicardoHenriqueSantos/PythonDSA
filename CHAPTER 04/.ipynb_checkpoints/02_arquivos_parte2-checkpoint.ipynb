{
 "cells": [
  {
   "cell_type": "markdown",
   "id": "b7001200",
   "metadata": {},
   "source": [
    "### Manipulação de Arquivos"
   ]
  },
  {
   "cell_type": "markdown",
   "id": "8fff4ec7",
   "metadata": {},
   "source": [
    "- Arquivos TXT\n",
    "- Arquivos CSV\n",
    "- Arquivos JSON"
   ]
  },
  {
   "cell_type": "markdown",
   "id": "15d131ce",
   "metadata": {},
   "source": [
    "### TXT"
   ]
  },
  {
   "cell_type": "code",
   "execution_count": null,
   "id": "92e93cee",
   "metadata": {},
   "outputs": [],
   "source": [
    "texto = \"Cientista de Dados é a profissão que mais cresce no mundo. \\n\"\n",
    "texto = texto + \"Esses profissionais precisam se especializar em Programação, Estatística e Machine Learning. \\n\"\n",
    "texto += \"E claro, Big Data.\""
   ]
  },
  {
   "cell_type": "code",
   "execution_count": null,
   "id": "6908a6f1",
   "metadata": {},
   "outputs": [],
   "source": [
    "print(texto)"
   ]
  },
  {
   "cell_type": "code",
   "execution_count": null,
   "id": "75c83aeb",
   "metadata": {},
   "outputs": [],
   "source": [
    "# Importando o módulo\n",
    "import os"
   ]
  },
  {
   "cell_type": "code",
   "execution_count": null,
   "id": "1c73be2f",
   "metadata": {},
   "outputs": [],
   "source": [
    "# Criando um arquivo\n",
    "arquivo = open(os.path.join(\"arquivos/cientista.txt\"),\"w\", encoding=\"utf-8\")"
   ]
  },
  {
   "cell_type": "code",
   "execution_count": null,
   "id": "dc07da7e",
   "metadata": {},
   "outputs": [],
   "source": [
    "# Inserindo dados no arquivo\n",
    "for palavra in texto.split():\n",
    "    arquivo.write(palavra+\" \")"
   ]
  },
  {
   "cell_type": "code",
   "execution_count": null,
   "id": "d4532097",
   "metadata": {},
   "outputs": [],
   "source": [
    "# Fechando o arquivo\n",
    "arquivo.close()"
   ]
  },
  {
   "cell_type": "code",
   "execution_count": null,
   "id": "fc95dc26",
   "metadata": {},
   "outputs": [],
   "source": [
    "# Lendo o arquivo\n",
    "arquivo = open(\"arquivos/cientista.txt\",\"r\", encoding=\"utf-8\")\n",
    "dados = arquivo.read()\n",
    "arquivo.close()\n",
    "print(dados)"
   ]
  },
  {
   "cell_type": "markdown",
   "id": "87c49f8f",
   "metadata": {},
   "source": [
    "### Usando a expressão with"
   ]
  },
  {
   "cell_type": "code",
   "execution_count": null,
   "id": "2a28569e",
   "metadata": {},
   "outputs": [],
   "source": [
    "with open(\"arquivos/cientista.txt\",\"r\", encoding=\"utf-8\") as arquivo:\n",
    "    dados = arquivo.read()"
   ]
  },
  {
   "cell_type": "code",
   "execution_count": null,
   "id": "a36d3efe",
   "metadata": {},
   "outputs": [],
   "source": [
    "print(len(dados))"
   ]
  },
  {
   "cell_type": "code",
   "execution_count": null,
   "id": "a9d6e0a7",
   "metadata": {},
   "outputs": [],
   "source": [
    "print(dados)"
   ]
  },
  {
   "cell_type": "code",
   "execution_count": null,
   "id": "cd0147ec",
   "metadata": {},
   "outputs": [],
   "source": [
    "with open(\"arquivos/cientista.txt\",\"w\") as arquivo:\n",
    "    arquivo.write(texto[:21])\n",
    "    arquivo.write('\\n')\n",
    "    arquivo.write(texto[:33])"
   ]
  },
  {
   "cell_type": "code",
   "execution_count": null,
   "id": "be71f2e2",
   "metadata": {},
   "outputs": [],
   "source": [
    "# Lendo o arquivos\n",
    "arquivo = open(\"arquivos/cientista.txt\",\"r\")\n",
    "dados = arquivo.read()\n",
    "arquivo.close()\n",
    "print(dados)"
   ]
  },
  {
   "cell_type": "markdown",
   "id": "0763af7f",
   "metadata": {},
   "source": [
    "### CSV"
   ]
  },
  {
   "cell_type": "code",
   "execution_count": null,
   "id": "937f9604",
   "metadata": {},
   "outputs": [],
   "source": [
    "# Importando o módulo CSV\n",
    "import csv"
   ]
  },
  {
   "cell_type": "code",
   "execution_count": null,
   "id": "202c62f8",
   "metadata": {},
   "outputs": [],
   "source": [
    "with open(\"arquivos/numeros.csv\",\"w\") as arquivo:\n",
    "    writer = csv.writer(arquivo)\n",
    "    writer.writerow(('primeira', 'segunda', 'terceira'))\n",
    "    writer.writerow((30, 40, 50))\n",
    "    writer.writerow((60, 80, 100))"
   ]
  },
  {
   "cell_type": "code",
   "execution_count": null,
   "id": "b3b8510b",
   "metadata": {},
   "outputs": [],
   "source": [
    "# Leitura de arquivos CSV\n",
    "with open(\"arquivos/numeros.csv\",\"r\") as arquivo:\n",
    "    leitor = csv.reader(arquivo)\n",
    "    for x in leitor:\n",
    "        print(f\"Número de colunas {len(x)}\")\n",
    "        print(x)"
   ]
  },
  {
   "cell_type": "code",
   "execution_count": null,
   "id": "c2a42383",
   "metadata": {},
   "outputs": [],
   "source": [
    "# Código alternativo para eventuais problemas com linhas em branco no arquivo\n",
    "with open(\"arquivos/numeros.csv\",\"r\", encoding=\"utf8\", newline = \"\\r\\n\") as arquivo:\n",
    "    leitor = csv.reader(arquivo)\n",
    "    for x in leitor:\n",
    "        print (f\"Número de colunas {len(x)}\")\n",
    "        print(x)"
   ]
  },
  {
   "cell_type": "code",
   "execution_count": null,
   "id": "09930a16",
   "metadata": {},
   "outputs": [],
   "source": [
    "# Gerando uma lista com dados do arquivo csv\n",
    "with open(\"arquivos/numeros.csv\",\"r\") as arquivo:\n",
    "    leitor = csv.reader(arquivo)\n",
    "    dados = list(leitor)\n",
    "print (dados)"
   ]
  },
  {
   "cell_type": "code",
   "execution_count": null,
   "id": "ae500011",
   "metadata": {},
   "outputs": [],
   "source": [
    "# Impriminfo a partir da segunda linha\n",
    "for linha in dados[1:]:\n",
    "    print (linha)"
   ]
  },
  {
   "cell_type": "markdown",
   "id": "e9c69c44",
   "metadata": {},
   "source": [
    "### JSON"
   ]
  },
  {
   "cell_type": "code",
   "execution_count": null,
   "id": "7cfc83f6",
   "metadata": {},
   "outputs": [],
   "source": [
    "# Criando um dicionário\n",
    "dict = {'Nome': 'Guido Van Rossum',\n",
    "        'Linguagem': 'Python',\n",
    "        'Similar': ['C','Modula-3','Lisp'],\n",
    "        'Users': 1000000}"
   ]
  },
  {
   "cell_type": "code",
   "execution_count": null,
   "id": "8f191edf",
   "metadata": {},
   "outputs": [],
   "source": [
    "for key, value in dict.items():\n",
    "    print (key, value)"
   ]
  },
  {
   "cell_type": "code",
   "execution_count": null,
   "id": "1e1409a0",
   "metadata": {},
   "outputs": [],
   "source": [
    "# Importando o módulo JSON\n",
    "import json"
   ]
  },
  {
   "cell_type": "code",
   "execution_count": null,
   "id": "5f83855a",
   "metadata": {},
   "outputs": [],
   "source": [
    "# Convertendo o dicionário para um objeto JSON\n",
    "json.dumps(dict)"
   ]
  },
  {
   "cell_type": "code",
   "execution_count": null,
   "id": "9aee5813",
   "metadata": {},
   "outputs": [],
   "source": [
    "# Criando um arquivo JSON\n",
    "with open(\"arquivos/dados.json\",\"w\") as arquivo:\n",
    "    arquivo.write(json.dumps(dict))"
   ]
  },
  {
   "cell_type": "code",
   "execution_count": null,
   "id": "2a13d2e3",
   "metadata": {},
   "outputs": [],
   "source": [
    "# Leitura de arquivos JSON\n",
    "with open(\"arquivos/dados.json\",\"r\") as arquivo:\n",
    "    texto = arquivo.read()\n",
    "    data = json.loads(texto)\n",
    "print(data)\n",
    "print (data['Nome'])"
   ]
  },
  {
   "cell_type": "code",
   "execution_count": null,
   "id": "24bec3a3",
   "metadata": {},
   "outputs": [],
   "source": [
    "# Imprimindo um arquivo JSON da internet\n",
    "from urllib.request import urlopen\n",
    "response = urlopen(\"http://vimeo.com/api/v2/video/57733101.json\").read().decode('utf8')\n",
    "data = json.loads(response)[0]"
   ]
  },
  {
   "cell_type": "code",
   "execution_count": null,
   "id": "1883c5ef",
   "metadata": {},
   "outputs": [],
   "source": [
    "print ('Título: ', data['title'])\n",
    "print ('URL: ', data['url'])\n",
    "print ('Duração: ', data['duration'])\n",
    "print ('Views: ', data['stats_number_of_plays'])"
   ]
  },
  {
   "cell_type": "code",
   "execution_count": null,
   "id": "4a1f595f",
   "metadata": {},
   "outputs": [],
   "source": [
    "# Copiando o conteúdo de um arquivo para outro\n",
    "import os\n",
    "arquivo_fonte = 'arquivos/dados.json'\n",
    "arquivo_destino = 'arquivos/json_data.txt'"
   ]
  },
  {
   "cell_type": "code",
   "execution_count": null,
   "id": "393c9e68",
   "metadata": {},
   "outputs": [],
   "source": [
    "# Método 1\n",
    "with open(arquivo_fonte,\"r\") as infile:\n",
    "    text = infile.read()\n",
    "    with open(arquivo_destino,\"w\") as outfile:\n",
    "        outfile.write(text)  "
   ]
  },
  {
   "cell_type": "code",
   "execution_count": null,
   "id": "21aca72b",
   "metadata": {},
   "outputs": [],
   "source": [
    "# Método 2\n",
    "open(arquivo_destino,'w').write(open(arquivo_fonte,'r').read()) "
   ]
  },
  {
   "cell_type": "code",
   "execution_count": null,
   "id": "d936b4ee",
   "metadata": {},
   "outputs": [],
   "source": [
    "# Leitura de arquivos JSON\n",
    "with open('arquivos/json_data.txt','r') as arquivo:\n",
    "    texto = arquivo.read()\n",
    "    data = json.loads(texto)\n",
    "print(data)"
   ]
  }
 ],
 "metadata": {
  "kernelspec": {
   "display_name": "Python 3 (ipykernel)",
   "language": "python",
   "name": "python3"
  },
  "language_info": {
   "codemirror_mode": {
    "name": "ipython",
    "version": 3
   },
   "file_extension": ".py",
   "mimetype": "text/x-python",
   "name": "python",
   "nbconvert_exporter": "python",
   "pygments_lexer": "ipython3",
   "version": "3.9.13"
  }
 },
 "nbformat": 4,
 "nbformat_minor": 5
}
