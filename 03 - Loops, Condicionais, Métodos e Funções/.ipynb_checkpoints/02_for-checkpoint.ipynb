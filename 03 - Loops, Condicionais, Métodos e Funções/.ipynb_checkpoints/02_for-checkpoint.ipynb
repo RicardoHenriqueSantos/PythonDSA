{
 "cells": [
  {
   "cell_type": "markdown",
   "id": "87a5f38c",
   "metadata": {},
   "source": [
    "### FOR"
   ]
  },
  {
   "cell_type": "markdown",
   "id": "3368891b",
   "metadata": {},
   "source": [
    "### Loop FOR"
   ]
  },
  {
   "cell_type": "code",
   "execution_count": null,
   "id": "928c62c4",
   "metadata": {},
   "outputs": [],
   "source": [
    "# Criando uma lista e exibindo todos os itens\n",
    "lista = [1, 2, 3, 4, 5]\n",
    "for item in lista:\n",
    "    print(item)"
   ]
  },
  {
   "cell_type": "code",
   "execution_count": null,
   "id": "9fbb5791",
   "metadata": {},
   "outputs": [],
   "source": [
    "# Imprimindo uma lista somente com números ímpares\n",
    "for impar in range(1, 11, 2):\n",
    "    print(impar)"
   ]
  },
  {
   "cell_type": "code",
   "execution_count": null,
   "id": "4bd095b0",
   "metadata": {},
   "outputs": [],
   "source": [
    "# Imprimindo cada letra de uma palavra\n",
    "for caractere in \"Python\":\n",
    "    print(caractere)"
   ]
  }
 ],
 "metadata": {
  "kernelspec": {
   "display_name": "Python 3 (ipykernel)",
   "language": "python",
   "name": "python3"
  },
  "language_info": {
   "codemirror_mode": {
    "name": "ipython",
    "version": 3
   },
   "file_extension": ".py",
   "mimetype": "text/x-python",
   "name": "python",
   "nbconvert_exporter": "python",
   "pygments_lexer": "ipython3",
   "version": "3.9.13"
  }
 },
 "nbformat": 4,
 "nbformat_minor": 5
}
