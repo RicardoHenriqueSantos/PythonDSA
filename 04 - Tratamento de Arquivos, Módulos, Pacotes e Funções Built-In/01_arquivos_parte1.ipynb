{
 "cells": [
  {
   "cell_type": "markdown",
   "id": "04951f91",
   "metadata": {},
   "source": [
    "### Arquivos"
   ]
  },
  {
   "cell_type": "markdown",
   "id": "142c6724",
   "metadata": {},
   "source": [
    "### Lendo arquivos"
   ]
  },
  {
   "cell_type": "code",
   "execution_count": null,
   "id": "4b719a64",
   "metadata": {},
   "outputs": [],
   "source": [
    "# Abrindo o arquivo para leitura | \"r\" = read\n",
    "arquivo1 = open(\"arquivos/arquivo1.txt\", \"r\", encoding = \"utf8\")"
   ]
  },
  {
   "cell_type": "code",
   "execution_count": null,
   "id": "3fa3a1a5",
   "metadata": {},
   "outputs": [],
   "source": [
    "# Lendo o arquivo\n",
    "print(arquivo1.read())"
   ]
  },
  {
   "cell_type": "code",
   "execution_count": null,
   "id": "773450dc",
   "metadata": {},
   "outputs": [],
   "source": [
    "# Contar o número de caracteres\n",
    "print(arquivo1.tell())"
   ]
  },
  {
   "cell_type": "code",
   "execution_count": null,
   "id": "48070554",
   "metadata": {},
   "outputs": [],
   "source": [
    "# Retornar para o ínicio do arquivo\n",
    "print(arquivo1.seek(0, 0))"
   ]
  },
  {
   "cell_type": "code",
   "execution_count": null,
   "id": "6ed02a40",
   "metadata": {},
   "outputs": [],
   "source": [
    "# Ler os 10 primeiros caracteres\n",
    "print(arquivo1.read(10))"
   ]
  },
  {
   "cell_type": "markdown",
   "id": "e21ba56c",
   "metadata": {},
   "source": [
    "### Gravando Arquivos"
   ]
  },
  {
   "cell_type": "code",
   "execution_count": null,
   "id": "c9d0fa14",
   "metadata": {},
   "outputs": [],
   "source": [
    "# Abrindo arquivo para gravação | \"w\" = write\n",
    "arquivo2 = open(\"arquivos/arquivo1.txt\", \"w\")"
   ]
  },
  {
   "cell_type": "code",
   "execution_count": null,
   "id": "9e51d8e6",
   "metadata": {},
   "outputs": [],
   "source": [
    "# Abrindo para realizar uma gravação não permite usar comandos de leitura\n",
    "print(arquivo2.read())"
   ]
  },
  {
   "cell_type": "code",
   "execution_count": null,
   "id": "3cc0a07b",
   "metadata": {},
   "outputs": [],
   "source": [
    "# Gravando um arquivo\n",
    "arquivo2.write(\"Testando gravação de arquivos em Python\")"
   ]
  },
  {
   "cell_type": "code",
   "execution_count": null,
   "id": "91fc2f99",
   "metadata": {},
   "outputs": [],
   "source": [
    "# Fechamos o arquivo gravado\n",
    "arquivo2.close()"
   ]
  },
  {
   "cell_type": "code",
   "execution_count": null,
   "id": "f3aa0a11",
   "metadata": {},
   "outputs": [],
   "source": [
    "# Abriremos e faremos a leitura do arquivo \n",
    "arquivo2 = open(\"arquivos/arquivo1.txt\", \"r\")\n",
    "print(arquivo2.read())"
   ]
  },
  {
   "cell_type": "code",
   "execution_count": null,
   "id": "043abd71",
   "metadata": {},
   "outputs": [],
   "source": [
    "# Acrescentando conteúdo | \"a\"´= append\n",
    "arquivo2 = open(\"arquivos/arquivo1.txt\", \"a\")\n",
    "arquivo2.write(\"Acrescentando conteúdo.\")\n",
    "arquivo2.close()"
   ]
  },
  {
   "cell_type": "code",
   "execution_count": null,
   "id": "08a1e15c",
   "metadata": {},
   "outputs": [],
   "source": [
    "# Vamos fazer a leitura do arquivo com a adição de contúdo\n",
    "arquivo2 = open(\"arquivos/arquivo1.txt\", \"r\")\n",
    "print(arquivo2.read())"
   ]
  },
  {
   "cell_type": "code",
   "execution_count": null,
   "id": "e07f5f57",
   "metadata": {},
   "outputs": [],
   "source": [
    "# Retornando ao início do arquivo para leitura\n",
    "arquivo2.seek(0, 0)\n",
    "print(arquivo2.read())"
   ]
  },
  {
   "cell_type": "markdown",
   "id": "f56fcb64",
   "metadata": {},
   "source": [
    "### Automatizando o processo de gravação"
   ]
  },
  {
   "cell_type": "code",
   "execution_count": null,
   "id": "65385c15",
   "metadata": {},
   "outputs": [],
   "source": [
    "arquivoNome = input(\"Insira o nome do arquivo: \")"
   ]
  },
  {
   "cell_type": "code",
   "execution_count": null,
   "id": "7c7889ef",
   "metadata": {},
   "outputs": [],
   "source": [
    "arquivoNome = arquivoNome + \".txt\""
   ]
  },
  {
   "cell_type": "code",
   "execution_count": null,
   "id": "dd3ede91",
   "metadata": {},
   "outputs": [],
   "source": [
    "arquivo3 = open(f\"arquivos/{arquivoNome}\", \"w\")"
   ]
  },
  {
   "cell_type": "code",
   "execution_count": null,
   "id": "51ed1e64",
   "metadata": {},
   "outputs": [],
   "source": [
    "arquivo3.write(\"Incluindo texto no arquivo criado.\")"
   ]
  },
  {
   "cell_type": "code",
   "execution_count": null,
   "id": "fc033b63",
   "metadata": {},
   "outputs": [],
   "source": [
    "arquivo3.close()"
   ]
  },
  {
   "cell_type": "code",
   "execution_count": null,
   "id": "1490ebd9",
   "metadata": {},
   "outputs": [],
   "source": [
    "arquivo3 = open(f\"arquivos/{arquivoNome}\", \"r\")"
   ]
  },
  {
   "cell_type": "code",
   "execution_count": null,
   "id": "c54f8871",
   "metadata": {},
   "outputs": [],
   "source": [
    "print(arquivo3.read())"
   ]
  },
  {
   "cell_type": "code",
   "execution_count": null,
   "id": "3e5ca3f9",
   "metadata": {},
   "outputs": [],
   "source": [
    "arquivo3.close()"
   ]
  },
  {
   "cell_type": "markdown",
   "id": "7196581a",
   "metadata": {},
   "source": [
    "### Abrindo um dataset em uma única linha"
   ]
  },
  {
   "cell_type": "code",
   "execution_count": null,
   "id": "a9a17470",
   "metadata": {},
   "outputs": [],
   "source": [
    "doc = open(\"arquivos\\salarios.csv\", \"r\")"
   ]
  },
  {
   "cell_type": "code",
   "execution_count": null,
   "id": "c1a2a775",
   "metadata": {},
   "outputs": [],
   "source": [
    "data = doc.read()"
   ]
  },
  {
   "cell_type": "code",
   "execution_count": null,
   "id": "74f2ed69",
   "metadata": {},
   "outputs": [],
   "source": [
    "rows = data.split(\"\\n\")"
   ]
  },
  {
   "cell_type": "code",
   "execution_count": null,
   "id": "cdc87818",
   "metadata": {},
   "outputs": [],
   "source": [
    "print(rows)"
   ]
  },
  {
   "cell_type": "markdown",
   "id": "f8c57def",
   "metadata": {},
   "source": [
    "### Dividindo um dataset em colunas"
   ]
  },
  {
   "cell_type": "code",
   "execution_count": null,
   "id": "75ecc12a",
   "metadata": {},
   "outputs": [],
   "source": [
    "doc = open(\"arquivos\\salarios.csv\", \"r\")"
   ]
  },
  {
   "cell_type": "code",
   "execution_count": null,
   "id": "52e3dfdb",
   "metadata": {},
   "outputs": [],
   "source": [
    "data = doc.read()"
   ]
  },
  {
   "cell_type": "code",
   "execution_count": null,
   "id": "598c596f",
   "metadata": {},
   "outputs": [],
   "source": [
    "rows = data.split(\"\\n\")"
   ]
  },
  {
   "cell_type": "code",
   "execution_count": null,
   "id": "020393b1",
   "metadata": {},
   "outputs": [],
   "source": [
    "full_data = []"
   ]
  },
  {
   "cell_type": "code",
   "execution_count": null,
   "id": "8956462a",
   "metadata": {},
   "outputs": [],
   "source": [
    "for row in rows:\n",
    "    split_row = row.split(\",\")\n",
    "    full_data.append(split_row)"
   ]
  },
  {
   "cell_type": "code",
   "execution_count": null,
   "id": "5cbef973",
   "metadata": {},
   "outputs": [],
   "source": [
    "print(full_data)"
   ]
  },
  {
   "cell_type": "markdown",
   "id": "7375b442",
   "metadata": {},
   "source": [
    "### Contando as linhas de um arquivo"
   ]
  },
  {
   "cell_type": "code",
   "execution_count": null,
   "id": "10797bed",
   "metadata": {},
   "outputs": [],
   "source": [
    "doc = open(\"arquivos\\salarios.csv\", \"r\")"
   ]
  },
  {
   "cell_type": "code",
   "execution_count": null,
   "id": "0af8162f",
   "metadata": {},
   "outputs": [],
   "source": [
    "data = doc.read()"
   ]
  },
  {
   "cell_type": "code",
   "execution_count": null,
   "id": "fa3f4582",
   "metadata": {},
   "outputs": [],
   "source": [
    "rows = data.split(\"\\n\")"
   ]
  },
  {
   "cell_type": "code",
   "execution_count": null,
   "id": "2fba673a",
   "metadata": {},
   "outputs": [],
   "source": [
    "full_data = []"
   ]
  },
  {
   "cell_type": "code",
   "execution_count": null,
   "id": "01b2fa29",
   "metadata": {},
   "outputs": [],
   "source": [
    "count = 0\n",
    "for row in rows:\n",
    "    split_row = row.split(\",\")\n",
    "    full_data.append(split_row)\n",
    "    count = count + 1"
   ]
  },
  {
   "cell_type": "code",
   "execution_count": null,
   "id": "38d47be3",
   "metadata": {},
   "outputs": [],
   "source": [
    "print(count)"
   ]
  },
  {
   "cell_type": "markdown",
   "id": "4fb5024c",
   "metadata": {},
   "source": [
    "### Contando as colunas de um arquivo"
   ]
  },
  {
   "cell_type": "code",
   "execution_count": null,
   "id": "c1cdf140",
   "metadata": {},
   "outputs": [],
   "source": [
    "f = open('arquivos/salarios.csv', 'r')\n",
    "data = f.read()\n",
    "rows = data.split('\\n')\n",
    "full_data = []"
   ]
  },
  {
   "cell_type": "code",
   "execution_count": null,
   "id": "dbd5fef2",
   "metadata": {},
   "outputs": [],
   "source": [
    "for row in rows:\n",
    "    split_row = row.split(\",\")\n",
    "    full_data.append(split_row)\n",
    "count = 0"
   ]
  },
  {
   "cell_type": "code",
   "execution_count": null,
   "id": "1b1d1454",
   "metadata": {},
   "outputs": [],
   "source": [
    "count = 0\n",
    "for column in full_data[0]:\n",
    "    count = count + 1"
   ]
  },
  {
   "cell_type": "code",
   "execution_count": null,
   "id": "07d82622",
   "metadata": {},
   "outputs": [],
   "source": [
    "print(count)"
   ]
  },
  {
   "cell_type": "code",
   "execution_count": null,
   "id": "22a0e41b",
   "metadata": {},
   "outputs": [],
   "source": [
    "print(full_data[1][4])"
   ]
  },
  {
   "cell_type": "markdown",
   "id": "88a23254",
   "metadata": {},
   "source": [
    "### Gravando arquivo pelo JN"
   ]
  },
  {
   "cell_type": "code",
   "execution_count": null,
   "id": "cc1a6cd5",
   "metadata": {},
   "outputs": [],
   "source": [
    "%%writefile arquivos/teste.txt   \n",
    "Olá este arquivo foi gerado pelo próprio Jupyter Notebook.\n",
    "Podemos gerar quantas linhas quisermos e o Jupyter gera o arquivo final."
   ]
  },
  {
   "cell_type": "code",
   "execution_count": null,
   "id": "306150fe",
   "metadata": {},
   "outputs": [],
   "source": [
    "arquivo4 = open(\"arquivos/teste.txt\", \"r\", encoding = \"utf8\")"
   ]
  },
  {
   "cell_type": "code",
   "execution_count": null,
   "id": "1e8cbc8f",
   "metadata": {},
   "outputs": [],
   "source": [
    "arquivo4.read()"
   ]
  },
  {
   "cell_type": "code",
   "execution_count": null,
   "id": "0e78df0c",
   "metadata": {},
   "outputs": [],
   "source": [
    "arquivo4.seek(0)"
   ]
  },
  {
   "cell_type": "code",
   "execution_count": null,
   "id": "148eda36",
   "metadata": {},
   "outputs": [],
   "source": [
    "arquivo4.readlines()"
   ]
  },
  {
   "cell_type": "code",
   "execution_count": null,
   "id": "f2615d65",
   "metadata": {},
   "outputs": [],
   "source": [
    "# Usando o loop para ler o arquivo\n",
    "for line in open(\"arquivos/teste.txt\", encoding = \"utf8\"):\n",
    "    print(line)"
   ]
  },
  {
   "cell_type": "markdown",
   "id": "3eba73c7",
   "metadata": {},
   "source": [
    "### Importando com o Pandas"
   ]
  },
  {
   "cell_type": "code",
   "execution_count": null,
   "id": "76d5c2fb",
   "metadata": {},
   "outputs": [],
   "source": [
    "import pandas as pd"
   ]
  },
  {
   "cell_type": "code",
   "execution_count": null,
   "id": "c16ed036",
   "metadata": {},
   "outputs": [],
   "source": [
    "pd.__version__"
   ]
  },
  {
   "cell_type": "code",
   "execution_count": null,
   "id": "d41bfc84",
   "metadata": {},
   "outputs": [],
   "source": [
    "arquivo_binary = \"arquivos/binary.csv\""
   ]
  },
  {
   "cell_type": "code",
   "execution_count": null,
   "id": "4f467292",
   "metadata": {},
   "outputs": [],
   "source": [
    "csv1 = pd.read_csv(arquivo_binary)"
   ]
  },
  {
   "cell_type": "code",
   "execution_count": null,
   "id": "0ba31cbd",
   "metadata": {},
   "outputs": [],
   "source": [
    "csv1.head()"
   ]
  },
  {
   "cell_type": "code",
   "execution_count": null,
   "id": "b149718c",
   "metadata": {},
   "outputs": [],
   "source": [
    "arquivo_salarios = \"arquivos/salarios.csv\""
   ]
  },
  {
   "cell_type": "code",
   "execution_count": null,
   "id": "893e0a78",
   "metadata": {},
   "outputs": [],
   "source": [
    "csv2 = pd.read_csv(arquivo_salarios)"
   ]
  },
  {
   "cell_type": "code",
   "execution_count": null,
   "id": "cb1ed13f",
   "metadata": {},
   "outputs": [],
   "source": [
    "csv2.head()"
   ]
  }
 ],
 "metadata": {
  "kernelspec": {
   "display_name": "Python 3 (ipykernel)",
   "language": "python",
   "name": "python3"
  },
  "language_info": {
   "codemirror_mode": {
    "name": "ipython",
    "version": 3
   },
   "file_extension": ".py",
   "mimetype": "text/x-python",
   "name": "python",
   "nbconvert_exporter": "python",
   "pygments_lexer": "ipython3",
   "version": "3.9.13"
  }
 },
 "nbformat": 4,
 "nbformat_minor": 5
}
