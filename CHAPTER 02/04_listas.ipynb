{
 "cells": [
  {
   "cell_type": "markdown",
   "id": "af70a33a",
   "metadata": {},
   "source": [
    "### Listas"
   ]
  },
  {
   "cell_type": "code",
   "execution_count": null,
   "id": "10b822b4",
   "metadata": {},
   "outputs": [],
   "source": [
    "# Criando uma lista\n",
    "estilos = [\"Heavy Metal, Power Metal, Speed Metal\"]\n",
    "print(estilos)"
   ]
  },
  {
   "cell_type": "code",
   "execution_count": null,
   "id": "906c2143",
   "metadata": {},
   "outputs": [],
   "source": [
    "# Criando uma nova lista\n",
    "bandas = [\"Iron Maiden\", \"Blind Guardian\", \"DragonForce\"]\n",
    "print(bandas)"
   ]
  },
  {
   "cell_type": "code",
   "execution_count": null,
   "id": "fcdd41a4",
   "metadata": {},
   "outputs": [],
   "source": [
    "# Atribuindo cada valor a uma variável\n",
    "banda1 = bandas[0]\n",
    "banda2 = bandas[1]\n",
    "banda3 = bandas[2]"
   ]
  },
  {
   "cell_type": "code",
   "execution_count": null,
   "id": "a416572d",
   "metadata": {},
   "outputs": [],
   "source": [
    "# Imprimindo as variáveis\n",
    "print(f\"{banda1} / {banda2} / {banda3}\")"
   ]
  },
  {
   "cell_type": "markdown",
   "id": "a0a390df",
   "metadata": {},
   "source": [
    "### Atualizando Itens da Lista"
   ]
  },
  {
   "cell_type": "code",
   "execution_count": null,
   "id": "2ef931b4",
   "metadata": {},
   "outputs": [],
   "source": [
    "# Imprimindo um item selecionado pelo index\n",
    "print(bandas[1])"
   ]
  },
  {
   "cell_type": "code",
   "execution_count": null,
   "id": "3e228da1",
   "metadata": {},
   "outputs": [],
   "source": [
    "# Atualizando um item da lista\n",
    "bandas[2] = \"PowerWolf\"\n",
    "print(bandas)"
   ]
  },
  {
   "cell_type": "code",
   "execution_count": null,
   "id": "63d6548e",
   "metadata": {},
   "outputs": [],
   "source": [
    "# Adicionando um novo item na lista\n",
    "bandas.append(\"Edu Falaschi\")\n",
    "print(bandas)"
   ]
  },
  {
   "cell_type": "code",
   "execution_count": null,
   "id": "6055e382",
   "metadata": {},
   "outputs": [],
   "source": [
    "# Deletando um item da lista\n",
    "del bandas[3]\n",
    "print(bandas)"
   ]
  },
  {
   "cell_type": "markdown",
   "id": "3ecda862",
   "metadata": {},
   "source": [
    "### Lista de Listas"
   ]
  },
  {
   "cell_type": "code",
   "execution_count": null,
   "id": "1e9b77d9",
   "metadata": {},
   "outputs": [],
   "source": [
    "# Uma Lista com Listas\n",
    "lista = [[1, 2, 3], [4, 5, 6], [7, 8, 9]]\n",
    "print(lista)"
   ]
  },
  {
   "cell_type": "code",
   "execution_count": null,
   "id": "08b9ee53",
   "metadata": {},
   "outputs": [],
   "source": [
    "# Atribuindo um item da lista à uma variável\n",
    "lista1 = lista[0]\n",
    "print(lista1)"
   ]
  },
  {
   "cell_type": "code",
   "execution_count": null,
   "id": "78eac6b3",
   "metadata": {},
   "outputs": [],
   "source": [
    "# Atribuindo um valor do item da lista\n",
    "valor1 = lista1[0]\n",
    "print(valor1)"
   ]
  },
  {
   "cell_type": "markdown",
   "id": "f9efa70e",
   "metadata": {},
   "source": [
    "### Operações com Listas"
   ]
  },
  {
   "cell_type": "code",
   "execution_count": null,
   "id": "e2b6e187",
   "metadata": {},
   "outputs": [],
   "source": [
    "# Vamos entender melhor como os valores estão indexados na lista:\n",
    "\n",
    "#              0          1          2\n",
    "#           0  1  2    0  1  2    0  1  2\n",
    "# lista = [[1, 2, 3], [4, 5, 6], [7, 8, 9]]\n",
    "\n",
    "# Então vamos tentar multiplicar 3 X 9\n",
    "\n",
    "resultado = lista[0][2] * lista[2][2]\n",
    "print(resultado)"
   ]
  },
  {
   "cell_type": "markdown",
   "id": "1b96e1c9",
   "metadata": {},
   "source": [
    "### Concatenando com Listas"
   ]
  },
  {
   "cell_type": "code",
   "execution_count": null,
   "id": "1717c88f",
   "metadata": {},
   "outputs": [],
   "source": [
    "# Vamos criar as listas 1 e 2\n",
    "lista1 = [1, 3, 5]\n",
    "lista2 = [9, 7, 8]"
   ]
  },
  {
   "cell_type": "code",
   "execution_count": null,
   "id": "12226954",
   "metadata": {},
   "outputs": [],
   "source": [
    "# Concatenando as duas listas\n",
    "lista3 = lista1 + lista2\n",
    "print(lista3)"
   ]
  },
  {
   "cell_type": "markdown",
   "id": "f1e5865a",
   "metadata": {},
   "source": [
    "### Operador In"
   ]
  },
  {
   "cell_type": "code",
   "execution_count": null,
   "id": "7f28cea0",
   "metadata": {},
   "outputs": [],
   "source": [
    "# O operador In percorre toda a lista verificando o valor informado\n",
    "print(9 in lista3)"
   ]
  },
  {
   "cell_type": "markdown",
   "id": "77a643c2",
   "metadata": {},
   "source": [
    "### Funções Built-In"
   ]
  },
  {
   "cell_type": "code",
   "execution_count": null,
   "id": "42e938fd",
   "metadata": {},
   "outputs": [],
   "source": [
    "# Len - retorna o comprimento da lista\n",
    "len(lista3)"
   ]
  },
  {
   "cell_type": "code",
   "execution_count": null,
   "id": "eaedc945",
   "metadata": {},
   "outputs": [],
   "source": [
    "# Max - retorna o maior valor da lista\n",
    "max(lista3)"
   ]
  },
  {
   "cell_type": "code",
   "execution_count": null,
   "id": "5b59f050",
   "metadata": {},
   "outputs": [],
   "source": [
    "# Min - retorna o menor valor da Lista\n",
    "min(lista3)"
   ]
  },
  {
   "cell_type": "code",
   "execution_count": null,
   "id": "7a420685",
   "metadata": {},
   "outputs": [],
   "source": [
    "# Copiando todos os itens de uma lista para uma nova\n",
    "## Primeiro vamos criar uma lista vazia\n",
    "nova_lista = []\n",
    "print(nova_lista)\n",
    "\n",
    "## Agora vamos passar todos os itens da lista3 para a nova lista\n",
    "for item in lista3:\n",
    "    nova_lista.append(item)\n",
    "print(nova_lista)"
   ]
  },
  {
   "cell_type": "code",
   "execution_count": null,
   "id": "50a8bd53",
   "metadata": {},
   "outputs": [],
   "source": [
    "# Verificando o index de um item\n",
    "nova_lista.index(9)"
   ]
  },
  {
   "cell_type": "code",
   "execution_count": null,
   "id": "1258b0dc",
   "metadata": {},
   "outputs": [],
   "source": [
    "# Inserindo mais um item na lista\n",
    "nova_lista.insert(2, 100)\n",
    "nova_lista"
   ]
  },
  {
   "cell_type": "code",
   "execution_count": null,
   "id": "1ba8860d",
   "metadata": {},
   "outputs": [],
   "source": [
    "# Removendo o item da lista\n",
    "nova_lista.remove(100)\n",
    "nova_lista"
   ]
  },
  {
   "cell_type": "code",
   "execution_count": null,
   "id": "c07102e9",
   "metadata": {},
   "outputs": [],
   "source": [
    "# Reverte a lista\n",
    "nova_lista.reverse()\n",
    "nova_lista"
   ]
  },
  {
   "cell_type": "code",
   "execution_count": null,
   "id": "a065f2e2",
   "metadata": {},
   "outputs": [],
   "source": [
    "# Ordena a lista\n",
    "nova_lista.sort()\n",
    "nova_lista"
   ]
  }
 ],
 "metadata": {
  "kernelspec": {
   "display_name": "Python 3 (ipykernel)",
   "language": "python",
   "name": "python3"
  },
  "language_info": {
   "codemirror_mode": {
    "name": "ipython",
    "version": 3
   },
   "file_extension": ".py",
   "mimetype": "text/x-python",
   "name": "python",
   "nbconvert_exporter": "python",
   "pygments_lexer": "ipython3",
   "version": "3.9.13"
  }
 },
 "nbformat": 4,
 "nbformat_minor": 5
}
