{
 "cells": [
  {
   "cell_type": "markdown",
   "id": "10c93422",
   "metadata": {},
   "source": [
    "# CHAPTER 02\n",
    "## Dicionários"
   ]
  },
  {
   "cell_type": "code",
   "execution_count": null,
   "id": "c50c1030",
   "metadata": {},
   "outputs": [],
   "source": [
    "# Criando um dicionário\n",
    "bandas_dict = {\"Iron Maiden\":1975, \"Blind Guardian\":1984, \"Rhapsody Of Fire\":1993}\n",
    "bandas_dict"
   ]
  },
  {
   "cell_type": "code",
   "execution_count": null,
   "id": "78043710",
   "metadata": {},
   "outputs": [],
   "source": [
    "# Visualizando o ano que a banda foi criada\n",
    "bandas_dict[\"Blind Guardian\"]"
   ]
  },
  {
   "cell_type": "code",
   "execution_count": null,
   "id": "36f3bc33",
   "metadata": {},
   "outputs": [],
   "source": [
    "# Limpando todos os dados do dicionário\n",
    "bandas_dict.clear()\n",
    "bandas_dict"
   ]
  },
  {
   "cell_type": "code",
   "execution_count": null,
   "id": "3efd80f8",
   "metadata": {},
   "outputs": [],
   "source": [
    "# Deletando um dicionário\n",
    "del bandas_dict"
   ]
  },
  {
   "cell_type": "code",
   "execution_count": null,
   "id": "1252b602",
   "metadata": {},
   "outputs": [],
   "source": [
    "# Criando uma nova lista para manipulação dos dados\n",
    "albuns = {\"Ascending To Infinity\": 2012, \"Prometheus - Symphonia Ignis Divinus\": 2015}\n",
    "albuns"
   ]
  },
  {
   "cell_type": "code",
   "execution_count": null,
   "id": "4266ce86",
   "metadata": {},
   "outputs": [],
   "source": [
    "# Verificando quantos itens há no dicionário\n",
    "len(albuns)"
   ]
  },
  {
   "cell_type": "code",
   "execution_count": null,
   "id": "a8989867",
   "metadata": {},
   "outputs": [],
   "source": [
    "# Visualizando as chaves dos itens\n",
    "albuns.keys()"
   ]
  },
  {
   "cell_type": "code",
   "execution_count": null,
   "id": "6188010c",
   "metadata": {},
   "outputs": [],
   "source": [
    "# Visualizando os valores\n",
    "albuns.values()"
   ]
  },
  {
   "cell_type": "code",
   "execution_count": null,
   "id": "90f79d1f",
   "metadata": {},
   "outputs": [],
   "source": [
    "# Visualizando os itens\n",
    "albuns.items()"
   ]
  },
  {
   "cell_type": "code",
   "execution_count": null,
   "id": "f95dfc54",
   "metadata": {},
   "outputs": [],
   "source": [
    "# Criando um novo dicionário para utilizar uma atualização no dicionário criado\n",
    "albuns_solo = {\"King of the Nordic Twilight\":1999, \"Zero Gravity - Rebirth and Evolution\": 2019}\n",
    "albuns_solo"
   ]
  },
  {
   "cell_type": "code",
   "execution_count": null,
   "id": "c7f51e1b",
   "metadata": {},
   "outputs": [],
   "source": [
    "# Atualizando o dicionário \"albuns\" com os novos itens do dicionário \"albuns_solo\"\n",
    "albuns.update(albuns_solo)\n",
    "albuns"
   ]
  },
  {
   "cell_type": "code",
   "execution_count": null,
   "id": "014a9280",
   "metadata": {},
   "outputs": [],
   "source": [
    "# Adicionando um novo item ao dicionário\n",
    "albuns[\"The Magic Of The Wizard's Dream\"] = 2005\n",
    "albuns"
   ]
  },
  {
   "cell_type": "markdown",
   "id": "bb15348c",
   "metadata": {},
   "source": [
    "# THE END"
   ]
  }
 ],
 "metadata": {
  "kernelspec": {
   "display_name": "Python 3 (ipykernel)",
   "language": "python",
   "name": "python3"
  },
  "language_info": {
   "codemirror_mode": {
    "name": "ipython",
    "version": 3
   },
   "file_extension": ".py",
   "mimetype": "text/x-python",
   "name": "python",
   "nbconvert_exporter": "python",
   "pygments_lexer": "ipython3",
   "version": "3.9.13"
  }
 },
 "nbformat": 4,
 "nbformat_minor": 5
}
