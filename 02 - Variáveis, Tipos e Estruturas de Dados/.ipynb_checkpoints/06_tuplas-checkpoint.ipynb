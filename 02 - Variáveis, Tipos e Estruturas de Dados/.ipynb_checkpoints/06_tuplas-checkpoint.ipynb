{
 "cells": [
  {
   "cell_type": "markdown",
   "id": "ee8d9e4e",
   "metadata": {},
   "source": [
    "### Tuplas"
   ]
  },
  {
   "cell_type": "code",
   "execution_count": null,
   "id": "9198f4e0",
   "metadata": {},
   "outputs": [],
   "source": [
    "# Criando uma tupla\n",
    "estilos = (\"Death Metal\", \"Thrash Metal\", \"Black Metal\")\n",
    "estilos"
   ]
  },
  {
   "cell_type": "code",
   "execution_count": null,
   "id": "9a45ec99",
   "metadata": {},
   "outputs": [],
   "source": [
    "# Deletando uma tupla\n",
    "del estilos"
   ]
  },
  {
   "cell_type": "code",
   "execution_count": null,
   "id": "1dcced02",
   "metadata": {},
   "outputs": [],
   "source": [
    "# Como a tupla não se é possível: atribuições, inserções, edições ou deletar algum item, pode-se converter em uma lista\n",
    "tupla = (\"Doom Metal\")\n",
    "lista = list(tupla)\n",
    "print(type(lista))"
   ]
  }
 ],
 "metadata": {
  "kernelspec": {
   "display_name": "Python 3 (ipykernel)",
   "language": "python",
   "name": "python3"
  },
  "language_info": {
   "codemirror_mode": {
    "name": "ipython",
    "version": 3
   },
   "file_extension": ".py",
   "mimetype": "text/x-python",
   "name": "python",
   "nbconvert_exporter": "python",
   "pygments_lexer": "ipython3",
   "version": "3.9.13"
  }
 },
 "nbformat": 4,
 "nbformat_minor": 5
}
