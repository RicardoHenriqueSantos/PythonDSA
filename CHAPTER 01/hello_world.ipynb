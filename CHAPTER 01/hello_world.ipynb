{
 "cells": [
  {
   "cell_type": "markdown",
   "id": "84873bd3",
   "metadata": {},
   "source": [
    "# DSA ACADEMY \n",
    "## CHAPTER 01\n",
    "## PILOT"
   ]
  },
  {
   "cell_type": "code",
   "execution_count": null,
   "id": "8db146d7",
   "metadata": {},
   "outputs": [],
   "source": [
    "# Visualizar versão do Python\n",
    "\n",
    "from platform import python_version\n",
    "\n",
    "print(\"A versão do Python utilizada é: \", python_version())"
   ]
  },
  {
   "cell_type": "code",
   "execution_count": null,
   "id": "a0309761",
   "metadata": {},
   "outputs": [],
   "source": [
    "print (\"Hello World! I'm Brainiac!\")"
   ]
  },
  {
   "cell_type": "code",
   "execution_count": null,
   "id": "a05208ce",
   "metadata": {},
   "outputs": [],
   "source": [
    "# Visualizar o resultado de uma operação matemática\n",
    "\n",
    "7 * 9"
   ]
  },
  {
   "cell_type": "code",
   "execution_count": null,
   "id": "3528c56b",
   "metadata": {},
   "outputs": [],
   "source": [
    "# Visualizando um vídeo de quem é Brainiac\n",
    "\n",
    "from IPython.display import IFrame\n",
    "\n",
    "IFrame(src=\"https://www.youtube.com/watch?v=VsXHZqMfs8s\", width = \"560\", height = \"315\")"
   ]
  },
  {
   "cell_type": "markdown",
   "id": "2d445596",
   "metadata": {},
   "source": [
    "# THE END"
   ]
  }
 ],
 "metadata": {
  "kernelspec": {
   "display_name": "Python 3 (ipykernel)",
   "language": "python",
   "name": "python3"
  },
  "language_info": {
   "codemirror_mode": {
    "name": "ipython",
    "version": 3
   },
   "file_extension": ".py",
   "mimetype": "text/x-python",
   "name": "python",
   "nbconvert_exporter": "python",
   "pygments_lexer": "ipython3",
   "version": "3.9.13"
  }
 },
 "nbformat": 4,
 "nbformat_minor": 5
}
