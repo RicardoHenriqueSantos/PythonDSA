{
 "cells": [
  {
   "cell_type": "markdown",
   "id": "e0a9a6ed",
   "metadata": {},
   "source": [
    "### Exercícios"
   ]
  },
  {
   "cell_type": "markdown",
   "id": "c6885401",
   "metadata": {},
   "source": [
    "#### Exercício 1 - Crie um objeto a partir da classe abaixo, chamado roc1, passando 2 parâmetros e depois faça uma chamada aos atributos e métodos.\n"
   ]
  },
  {
   "cell_type": "code",
   "execution_count": null,
   "id": "a2df120b",
   "metadata": {},
   "outputs": [],
   "source": [
    "from math import sqrt\n",
    "\n",
    "class Rocket():\n",
    "     \n",
    "    def __init__(self, x=0, y=0):\n",
    "        self.x = x\n",
    "        self.y = y\n",
    "        \n",
    "    def move_rocket(self, x_increment=0, y_increment=1):\n",
    "        self.x += x_increment\n",
    "        self.y += y_increment\n",
    "        \n",
    "    def print_rocket(self):\n",
    "        print(self.x, self.y)"
   ]
  },
  {
   "cell_type": "code",
   "execution_count": null,
   "id": "37533b20",
   "metadata": {},
   "outputs": [],
   "source": [
    "roc1 = Rocket(7, 9)\n",
    "roc1.x\n",
    "roc1.y\n",
    "roc1.print_rocket()\n",
    "roc1.move_rocket(9, 7)\n",
    "roc1.print_rocket()"
   ]
  },
  {
   "cell_type": "markdown",
   "id": "105c686d",
   "metadata": {},
   "source": [
    "#### Exercício 2 - Crie uma classe chamada Pessoa() com os atributos: nome, cidade, telefone e e-mail. Use pelo menos 2 métodos especiais na sua classe. Crie um objeto da sua classe e faça uma chamada a pelo menos um dos seus métodos especiais."
   ]
  },
  {
   "cell_type": "code",
   "execution_count": null,
   "id": "9864e010",
   "metadata": {},
   "outputs": [],
   "source": [
    "class Pessoa():\n",
    "    def __init__(self, nome, cidade, telefone, email):\n",
    "        self.nome = str(nome)\n",
    "        self.cidade = cidade\n",
    "        self.telefone = telefone\n",
    "        self.email = email\n",
    "        print(\"Dados cadastrados!\")\n",
    "    \n",
    "    def __str__(self):\n",
    "        return f\"Os Dados do {self.nome} estão na Cloud!\"\n",
    "\n",
    "P1 = Pessoa(\"Clark\", \"Smallville\", 99999999, \"cl@metro.com\")\n",
    "str(P1)"
   ]
  },
  {
   "cell_type": "markdown",
   "id": "ed7d7539",
   "metadata": {},
   "source": [
    "#### Exercício 3 - Crie a classe Smartphone com 2 atributos, tamanho e interface e crie a classe MP3Player com os atributos capacidade. A classe MP3player deve herdar os atributos da classe Smartphone."
   ]
  },
  {
   "cell_type": "code",
   "execution_count": null,
   "id": "70fdd97b",
   "metadata": {},
   "outputs": [],
   "source": [
    "class Smartphone():\n",
    "    def __init__(self, tamanho, interface):\n",
    "        self.tamanho = tamanho\n",
    "        self.interface = interface\n",
    "class MP3Player(Smartphone):\n",
    "    def __init__(self, capacidade, tamanho = \"Grande\", interface = \"LED\"):\n",
    "        self.capacidade = capacidade\n",
    "        Smartphone.__init__(self, tamanho, interface)\n",
    "    def print_mp3player(self):\n",
    "        print(f\"Valores para o objeto criado: {self.tamanho} | {self.interface} | {self.capacidade}\")\n",
    "\n",
    "dispositivo = MP3Player(\"36 GB\")\n",
    "dispositivo.print_mp3player()"
   ]
  }
 ],
 "metadata": {
  "kernelspec": {
   "display_name": "Python 3 (ipykernel)",
   "language": "python",
   "name": "python3"
  },
  "language_info": {
   "codemirror_mode": {
    "name": "ipython",
    "version": 3
   },
   "file_extension": ".py",
   "mimetype": "text/x-python",
   "name": "python",
   "nbconvert_exporter": "python",
   "pygments_lexer": "ipython3",
   "version": "3.9.13"
  }
 },
 "nbformat": 4,
 "nbformat_minor": 5
}
