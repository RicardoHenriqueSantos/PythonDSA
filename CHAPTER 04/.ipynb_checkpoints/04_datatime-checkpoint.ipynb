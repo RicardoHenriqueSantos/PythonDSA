{
 "cells": [
  {
   "cell_type": "markdown",
   "id": "d084d4eb",
   "metadata": {},
   "source": [
    "### Datatime"
   ]
  },
  {
   "cell_type": "code",
   "execution_count": null,
   "id": "426569f8",
   "metadata": {},
   "outputs": [],
   "source": [
    "import datetime"
   ]
  },
  {
   "cell_type": "code",
   "execution_count": null,
   "id": "82e33438",
   "metadata": {},
   "outputs": [],
   "source": [
    "agora = datetime.datetime.now()"
   ]
  },
  {
   "cell_type": "code",
   "execution_count": null,
   "id": "1f9069ee",
   "metadata": {},
   "outputs": [],
   "source": [
    "agora"
   ]
  },
  {
   "cell_type": "code",
   "execution_count": null,
   "id": "35ac55e9",
   "metadata": {},
   "outputs": [],
   "source": [
    "t = datetime.time(7, 43, 28)"
   ]
  },
  {
   "cell_type": "code",
   "execution_count": null,
   "id": "10e874a9",
   "metadata": {},
   "outputs": [],
   "source": [
    "print(t)"
   ]
  },
  {
   "cell_type": "code",
   "execution_count": null,
   "id": "97e71493",
   "metadata": {},
   "outputs": [],
   "source": [
    "print ('Hora  :', t.hour)\n",
    "print ('Minute:', t.minute)\n",
    "print ('Segundo:', t.second)\n",
    "print ('Microssegundo:', t.microsecond)"
   ]
  },
  {
   "cell_type": "code",
   "execution_count": null,
   "id": "3196e741",
   "metadata": {},
   "outputs": [],
   "source": [
    "print(datetime.time.min)"
   ]
  },
  {
   "cell_type": "code",
   "execution_count": null,
   "id": "6f9f0bb1",
   "metadata": {},
   "outputs": [],
   "source": [
    "hoje = datetime.date.today()"
   ]
  },
  {
   "cell_type": "code",
   "execution_count": null,
   "id": "41463255",
   "metadata": {},
   "outputs": [],
   "source": [
    "print (hoje)\n",
    "print ('ctime:', hoje.ctime())\n",
    "print ('Ano:', hoje.year)\n",
    "print ('Mês :', hoje.month)\n",
    "print ('Dia :', hoje.day)"
   ]
  },
  {
   "cell_type": "code",
   "execution_count": null,
   "id": "0723a787",
   "metadata": {},
   "outputs": [],
   "source": [
    "d1 = datetime.date(2015, 4, 28)\n",
    "print ('d1:', d1)"
   ]
  },
  {
   "cell_type": "code",
   "execution_count": null,
   "id": "fbd26a02",
   "metadata": {},
   "outputs": [],
   "source": [
    "d2 = d1.replace(year=2016)\n",
    "print ('d2:', d2)"
   ]
  },
  {
   "cell_type": "code",
   "execution_count": null,
   "id": "69a80758",
   "metadata": {},
   "outputs": [],
   "source": [
    "# Diferença em dias entre duas datas\n",
    "d2 - d1"
   ]
  }
 ],
 "metadata": {
  "kernelspec": {
   "display_name": "Python 3 (ipykernel)",
   "language": "python",
   "name": "python3"
  },
  "language_info": {
   "codemirror_mode": {
    "name": "ipython",
    "version": 3
   },
   "file_extension": ".py",
   "mimetype": "text/x-python",
   "name": "python",
   "nbconvert_exporter": "python",
   "pygments_lexer": "ipython3",
   "version": "3.9.13"
  }
 },
 "nbformat": 4,
 "nbformat_minor": 5
}
