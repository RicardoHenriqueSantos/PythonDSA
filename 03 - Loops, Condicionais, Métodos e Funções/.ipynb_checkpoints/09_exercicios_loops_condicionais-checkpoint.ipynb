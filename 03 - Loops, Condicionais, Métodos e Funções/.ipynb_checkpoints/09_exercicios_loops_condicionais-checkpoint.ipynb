{
 "cells": [
  {
   "cell_type": "markdown",
   "id": "d27f8ae2",
   "metadata": {},
   "source": [
    "### Exercícios Loops Condicionais"
   ]
  },
  {
   "cell_type": "markdown",
   "id": "3254883b",
   "metadata": {},
   "source": [
    "#### Exercício 1 - Crie uma estrutura que pergunte ao usuário qual o dia da semana. Se o dia for igual a Domingo ou igual a sábado, imprima na tela \"Hoje é dia de descanso\", caso contrário imprima na tela \"Você precisa trabalhar!\""
   ]
  },
  {
   "cell_type": "code",
   "execution_count": null,
   "id": "b4d7e242",
   "metadata": {},
   "outputs": [],
   "source": [
    "dia = input(\"Olá! Qual é o dia da semana: \")\n",
    "if dia.upper() == \"DOMINGO\" or dia.upper() == \"SÁBADO\":\n",
    "    print(\"Hoje é dia de descanso.\")\n",
    "else:\n",
    "    print(\"Você precisa trabalhar!\")"
   ]
  },
  {
   "cell_type": "markdown",
   "id": "15055265",
   "metadata": {},
   "source": [
    "#### Exercício 2 - Crie uma lista de 5 frutas e verifique se a fruta 'Morango' faz parte da lista."
   ]
  },
  {
   "cell_type": "code",
   "execution_count": null,
   "id": "44f71995",
   "metadata": {},
   "outputs": [],
   "source": [
    "lista = [\"Morango\", \"Chocolate\", \"Abacaxi\", \"Maracujá\", \"Laranja\"]\n",
    "for fruta in lista:\n",
    "    if fruta == \"Morango\":\n",
    "        print(f\"{fruta} consta na lista!\")"
   ]
  },
  {
   "cell_type": "markdown",
   "id": "7c5883c3",
   "metadata": {},
   "source": [
    "#### Exercício 3 - Crie uma tupla de 4 elementos, multiplique cada elemento da tupla por 2 e guarde os resultados em uma lista"
   ]
  },
  {
   "cell_type": "code",
   "execution_count": null,
   "id": "0975d38c",
   "metadata": {},
   "outputs": [],
   "source": [
    "tupla = (1, 2, 3, 4)\n",
    "lista = []\n",
    "for cont in tupla:\n",
    "    valor = cont * 2\n",
    "    lista.append(valor)\n",
    "print(lista)"
   ]
  },
  {
   "cell_type": "markdown",
   "id": "de28c01e",
   "metadata": {},
   "source": [
    "#### Exercício 4 - Crie uma sequência de números pares entre 100 e 150 e imprima na tela."
   ]
  },
  {
   "cell_type": "code",
   "execution_count": 2,
   "id": "2c51f24a",
   "metadata": {},
   "outputs": [
    {
     "name": "stdout",
     "output_type": "stream",
     "text": [
      "102\n",
      "104\n",
      "106\n",
      "108\n",
      "110\n",
      "112\n",
      "114\n",
      "116\n",
      "118\n",
      "120\n",
      "122\n",
      "124\n",
      "126\n",
      "128\n",
      "130\n",
      "132\n",
      "134\n",
      "136\n",
      "138\n",
      "140\n",
      "142\n",
      "144\n",
      "146\n",
      "148\n"
     ]
    }
   ],
   "source": [
    "for cont in range(102, 150, 2):\n",
    "    print(cont)"
   ]
  },
  {
   "cell_type": "code",
   "execution_count": null,
   "id": "b084e039",
   "metadata": {},
   "outputs": [],
   "source": []
  }
 ],
 "metadata": {
  "kernelspec": {
   "display_name": "Python 3 (ipykernel)",
   "language": "python",
   "name": "python3"
  },
  "language_info": {
   "codemirror_mode": {
    "name": "ipython",
    "version": 3
   },
   "file_extension": ".py",
   "mimetype": "text/x-python",
   "name": "python",
   "nbconvert_exporter": "python",
   "pygments_lexer": "ipython3",
   "version": "3.9.13"
  }
 },
 "nbformat": 4,
 "nbformat_minor": 5
}
