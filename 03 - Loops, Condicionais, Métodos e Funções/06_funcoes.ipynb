{
 "cells": [
  {
   "cell_type": "markdown",
   "id": "099b349c",
   "metadata": {},
   "source": [
    "### Funções"
   ]
  },
  {
   "cell_type": "code",
   "execution_count": null,
   "id": "54f0c604",
   "metadata": {},
   "outputs": [],
   "source": [
    "# Definindo uma função\n",
    "def welcome():\n",
    "    print(\"Hello World!\")\n",
    "welcome()"
   ]
  },
  {
   "cell_type": "code",
   "execution_count": null,
   "id": "715a1f3c",
   "metadata": {},
   "outputs": [],
   "source": [
    "# Definindo uma função com parâmetro\n",
    "def superhero(personagem):\n",
    "    print(f\"SuperHero: {personagem}\")\n",
    "\n",
    "pers = input(\"Insira o nome do super-herói: \")\n",
    "superhero(pers)"
   ]
  },
  {
   "cell_type": "code",
   "execution_count": null,
   "id": "ac0956f9",
   "metadata": {},
   "outputs": [],
   "source": [
    "# Função para uma operação matemática\n",
    "def tabuada_mult(numero):\n",
    "    cont = 1\n",
    "    for cont in range(cont, 11):\n",
    "        resultado = numero * cont\n",
    "        print(f\"{numero} X {cont} = {resultado} \")\n",
    "\n",
    "num = int(input(\"Insira um número: \"))\n",
    "tabuada_mult(num)"
   ]
  },
  {
   "cell_type": "markdown",
   "id": "7e5e36c0",
   "metadata": {},
   "source": [
    "### Variáveis Locais e Globais"
   ]
  },
  {
   "cell_type": "code",
   "execution_count": null,
   "id": "432a32ee",
   "metadata": {},
   "outputs": [],
   "source": [
    "# Variável Global\n",
    "var_global = 10\n",
    "def mult(num1, num2):\n",
    "    var_global = num1 * num2 # Variável Local\n",
    "    print(f\"{num1} X {num2} = {var_global}\")\n",
    "print(var_global)\n",
    "mult(7, 9)\n"
   ]
  },
  {
   "cell_type": "markdown",
   "id": "2af52283",
   "metadata": {},
   "source": [
    "### Funções Built-In"
   ]
  },
  {
   "cell_type": "code",
   "execution_count": null,
   "id": "96278505",
   "metadata": {},
   "outputs": [],
   "source": [
    "abs(-79)"
   ]
  },
  {
   "cell_type": "code",
   "execution_count": null,
   "id": "c2a3954d",
   "metadata": {},
   "outputs": [],
   "source": [
    "bool(0)"
   ]
  },
  {
   "cell_type": "code",
   "execution_count": null,
   "id": "5245e1d2",
   "metadata": {},
   "outputs": [],
   "source": [
    "bool(1)"
   ]
  },
  {
   "cell_type": "markdown",
   "id": "9ca7acfa",
   "metadata": {},
   "source": [
    "### Funções str, int, float"
   ]
  },
  {
   "cell_type": "code",
   "execution_count": null,
   "id": "0d89e7c9",
   "metadata": {},
   "outputs": [],
   "source": [
    "lista = [1, 2, 3, 4, 5]\n",
    "len(lista)"
   ]
  },
  {
   "cell_type": "code",
   "execution_count": null,
   "id": "c6618cc0",
   "metadata": {},
   "outputs": [],
   "source": [
    "max(lista)"
   ]
  },
  {
   "cell_type": "code",
   "execution_count": null,
   "id": "d559cc17",
   "metadata": {},
   "outputs": [],
   "source": [
    "min(lista)"
   ]
  },
  {
   "cell_type": "code",
   "execution_count": null,
   "id": "f1b99653",
   "metadata": {},
   "outputs": [],
   "source": [
    "sum(lista)"
   ]
  },
  {
   "cell_type": "markdown",
   "id": "49caba65",
   "metadata": {},
   "source": [
    "### Criando funções usando outras funções"
   ]
  },
  {
   "cell_type": "code",
   "execution_count": null,
   "id": "2b765e19",
   "metadata": {},
   "outputs": [],
   "source": [
    "import math\n",
    "def numero_primo(num):\n",
    "    if (num % 2) == 0 and num > 2:\n",
    "        return \"O número não é primo!\"\n",
    "    for i in range(3, int(math.sqrt(num)) + 1, 2):\n",
    "        if (num % i) == 0:\n",
    "            return \"O não é primo!\"\n",
    "    return \"O número é primo!\"\n",
    "num = int(input(\"Insira um número: \"))\n",
    "numero_primo(num)"
   ]
  }
 ],
 "metadata": {
  "kernelspec": {
   "display_name": "Python 3 (ipykernel)",
   "language": "python",
   "name": "python3"
  },
  "language_info": {
   "codemirror_mode": {
    "name": "ipython",
    "version": 3
   },
   "file_extension": ".py",
   "mimetype": "text/x-python",
   "name": "python",
   "nbconvert_exporter": "python",
   "pygments_lexer": "ipython3",
   "version": "3.9.13"
  }
 },
 "nbformat": 4,
 "nbformat_minor": 5
}
