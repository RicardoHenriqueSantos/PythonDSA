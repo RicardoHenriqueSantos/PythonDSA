{
 "cells": [
  {
   "cell_type": "markdown",
   "id": "9bdb2f17",
   "metadata": {},
   "source": [
    "# CHAPTER 02\n",
    "## Exercícios"
   ]
  },
  {
   "cell_type": "markdown",
   "id": "4022eb5d",
   "metadata": {},
   "source": [
    "## Exercício 1 - Imprima na tela os números de 1 a 10. Use uma lista para armazenar os números."
   ]
  },
  {
   "cell_type": "code",
   "execution_count": null,
   "id": "e7327c54",
   "metadata": {},
   "outputs": [],
   "source": [
    "lista1 = [1, 2, 3, 4, 5, 6, 7, 8, 9, 10]\n",
    "print(lista1)"
   ]
  },
  {
   "cell_type": "markdown",
   "id": "b1953587",
   "metadata": {},
   "source": [
    "## Exercício 2 - Crie uma lista de 5 objetos e imprima na tela"
   ]
  },
  {
   "cell_type": "code",
   "execution_count": null,
   "id": "e468b7b3",
   "metadata": {},
   "outputs": [],
   "source": [
    "lista2 = [\"Brainiac\", \"Superman\", \"Lex\", \"Clark\", \"Krypto\"]\n",
    "print(lista2)"
   ]
  },
  {
   "cell_type": "markdown",
   "id": "45a72fb5",
   "metadata": {},
   "source": [
    "## Exercício 3 - Crie duas strings e concatene as duas em uma terceira string"
   ]
  },
  {
   "cell_type": "code",
   "execution_count": null,
   "id": "ed01139d",
   "metadata": {},
   "outputs": [],
   "source": [
    "frase1 = \"Welcome\"\n",
    "frase2 = \"Brainiac\"\n",
    "frase3 = frase1 + \" \" + frase2\n",
    "print(frase3)"
   ]
  },
  {
   "cell_type": "markdown",
   "id": "135bfbed",
   "metadata": {},
   "source": [
    "## Exercício 4 - Crie uma tupla com os seguintes elementos: 1, 2, 2, 3, 4, 4, 4, 5 e depois utilize a função count do objeto tupla para verificar quantas vezes o número 4 aparece na tupla."
   ]
  },
  {
   "cell_type": "code",
   "execution_count": null,
   "id": "80e4534f",
   "metadata": {},
   "outputs": [],
   "source": [
    "tupla1 = (1, 2, 2, 3, 4, 4, 4, 5)\n",
    "tupla1.count(4)"
   ]
  },
  {
   "cell_type": "markdown",
   "id": "ebe50a3c",
   "metadata": {},
   "source": [
    "## Exercício 5 - Crie um dicionário vazio e imprima na tela."
   ]
  },
  {
   "cell_type": "code",
   "execution_count": null,
   "id": "099a2645",
   "metadata": {},
   "outputs": [],
   "source": [
    "exer_dict = {}\n",
    "print(exer_dict)"
   ]
  },
  {
   "cell_type": "markdown",
   "id": "5bd20f7d",
   "metadata": {},
   "source": [
    "## Exercício 6 - Crie um dicionário com 3 chaves e 3 valores e imprima na tela."
   ]
  },
  {
   "cell_type": "code",
   "execution_count": null,
   "id": "bf7286e0",
   "metadata": {},
   "outputs": [],
   "source": [
    "new_dict = {\"chave1\": 10, \"chave2\": 20, \"chave3\": 30}\n",
    "print(new_dict)"
   ]
  },
  {
   "cell_type": "markdown",
   "id": "d3091967",
   "metadata": {},
   "source": [
    "## Exercício 7 - Adicione mais um elemento ao dicionário criado no exercício anterior e imprima na tela."
   ]
  },
  {
   "cell_type": "code",
   "execution_count": null,
   "id": "e96a5ebc",
   "metadata": {},
   "outputs": [],
   "source": [
    "new_dict[\"chave4\"] = 40\n",
    "print(new_dict)"
   ]
  },
  {
   "cell_type": "markdown",
   "id": "09332bc2",
   "metadata": {},
   "source": [
    "## Exercício 8 - Crie um dicionário com 3 chaves e 3 valores. Um dos valores deve ser uma lista de 2 elementos numéricos. Imprima o dicionário na tela."
   ]
  },
  {
   "cell_type": "code",
   "execution_count": null,
   "id": "de89ed45",
   "metadata": {},
   "outputs": [],
   "source": [
    "other_dict = {\"Sabaton\": [1999, 2022], \"PowerWolf\": 2003, \"Rhapsody Of Fire\": 1993}\n",
    "print(other_dict)"
   ]
  },
  {
   "cell_type": "markdown",
   "id": "e9edfc0f",
   "metadata": {},
   "source": [
    "## Exercício 9 - Crie uma lista de 4 elementos. O primeiro elemento deve ser uma string, o segundo uma tupla de 2 elementos, O terceiro um dicionário com 2 chaves e 2 valores, e o quarto elemento um valor do tipo float. Imprima a lista na tela."
   ]
  },
  {
   "cell_type": "code",
   "execution_count": null,
   "id": "23282d8e",
   "metadata": {},
   "outputs": [],
   "source": [
    "lista_exe4 = [\"DSA\", (\"Pyhon\", 1991), {\"MySQL\": 1995, \"PowerBI\": 2015}, 7.9]\n",
    "print(lista_exe4)"
   ]
  },
  {
   "cell_type": "markdown",
   "id": "537089e6",
   "metadata": {},
   "source": [
    "## Exercício 10 - Considere a string abaixo. Imprima na tela apenas os caracteres da posição 1 a 18."
   ]
  },
  {
   "cell_type": "code",
   "execution_count": null,
   "id": "4337dff3",
   "metadata": {},
   "outputs": [],
   "source": [
    "texto = 'Cientista de Dados é o profissional mais sexy do século XXI'\n",
    "print(texto[0:18])"
   ]
  },
  {
   "cell_type": "markdown",
   "id": "9cd11dec",
   "metadata": {},
   "source": [
    "# THE END"
   ]
  },
  {
   "cell_type": "code",
   "execution_count": null,
   "id": "b704d95d",
   "metadata": {},
   "outputs": [],
   "source": []
  }
 ],
 "metadata": {
  "kernelspec": {
   "display_name": "Python 3 (ipykernel)",
   "language": "python",
   "name": "python3"
  },
  "language_info": {
   "codemirror_mode": {
    "name": "ipython",
    "version": 3
   },
   "file_extension": ".py",
   "mimetype": "text/x-python",
   "name": "python",
   "nbconvert_exporter": "python",
   "pygments_lexer": "ipython3",
   "version": "3.9.13"
  }
 },
 "nbformat": 4,
 "nbformat_minor": 5
}
