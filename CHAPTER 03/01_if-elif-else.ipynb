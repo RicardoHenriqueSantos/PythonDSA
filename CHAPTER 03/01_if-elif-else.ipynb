{
 "cells": [
  {
   "cell_type": "markdown",
   "id": "7cbaf760",
   "metadata": {},
   "source": [
    "# CHAPTER 03\n",
    "## Condicional IF, ELIF, ELSE"
   ]
  },
  {
   "cell_type": "markdown",
   "id": "098499c5",
   "metadata": {},
   "source": [
    "### Condicional IF"
   ]
  },
  {
   "cell_type": "code",
   "execution_count": null,
   "id": "ccfd3f44",
   "metadata": {},
   "outputs": [],
   "source": [
    "# Condicional IF\n",
    "if 9 > 7:\n",
    "    print(\"Brainiac!\")"
   ]
  },
  {
   "cell_type": "markdown",
   "id": "f7801656",
   "metadata": {},
   "source": [
    "### Condicional ELSE"
   ]
  },
  {
   "cell_type": "code",
   "execution_count": null,
   "id": "13a3c308",
   "metadata": {},
   "outputs": [],
   "source": [
    "# Condicional ELSE\n",
    "if 9 > 7:\n",
    "    print(\"Maior\")\n",
    "else:\n",
    "    print(\"Menor\")"
   ]
  },
  {
   "cell_type": "markdown",
   "id": "9219fa08",
   "metadata": {},
   "source": [
    "### Condicional ELIF"
   ]
  },
  {
   "cell_type": "code",
   "execution_count": null,
   "id": "bc71dce8",
   "metadata": {},
   "outputs": [],
   "source": [
    "# Condicional ELIF\n",
    "personagem = \"Superman\"\n",
    "if personagem == \"Superman\":\n",
    "    print(\"SuperHero\")\n",
    "elif personagem == \"Brainiac\":\n",
    "    print(\"Vilain\")\n",
    "else:\n",
    "    print(\"AntiHero\")"
   ]
  },
  {
   "cell_type": "markdown",
   "id": "491ece5f",
   "metadata": {},
   "source": [
    "### IF, ELIF, ELSE"
   ]
  },
  {
   "cell_type": "code",
   "execution_count": null,
   "id": "7930c0a9",
   "metadata": {},
   "outputs": [],
   "source": [
    "# Vamos fazer um teste com notas, obetendo sua média e o status\n",
    "nota1, nota2, nota3 = 7, 6, 10\n",
    "media = (nota1 + nota2 + nota3) / 3\n",
    "if media >= 6:\n",
    "    print(\"APROVADO\")\n",
    "elif media >= 4:\n",
    "    print(\"RECUPERAÇÃO\")\n",
    "else:\n",
    "    print(\"REPROVADO\")"
   ]
  },
  {
   "cell_type": "markdown",
   "id": "3a8fa20c",
   "metadata": {},
   "source": [
    "# THE END"
   ]
  }
 ],
 "metadata": {
  "kernelspec": {
   "display_name": "Python 3 (ipykernel)",
   "language": "python",
   "name": "python3"
  },
  "language_info": {
   "codemirror_mode": {
    "name": "ipython",
    "version": 3
   },
   "file_extension": ".py",
   "mimetype": "text/x-python",
   "name": "python",
   "nbconvert_exporter": "python",
   "pygments_lexer": "ipython3",
   "version": "3.9.13"
  }
 },
 "nbformat": 4,
 "nbformat_minor": 5
}
