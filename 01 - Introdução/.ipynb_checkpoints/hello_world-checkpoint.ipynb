{
 "cells": [
  {
   "cell_type": "markdown",
   "id": "3cdc3fbf",
   "metadata": {},
   "source": [
    "### DSA ACADEMY \n",
    "### Hello"
   ]
  },
  {
   "cell_type": "code",
   "execution_count": null,
   "id": "8db146d7",
   "metadata": {},
   "outputs": [],
   "source": [
    "# Visualizar versão do Python\n",
    "from platform import python_version\n",
    "print(\"A versão do Python utilizada é: \", python_version())"
   ]
  },
  {
   "cell_type": "code",
   "execution_count": null,
   "id": "a0309761",
   "metadata": {},
   "outputs": [],
   "source": [
    "print (\"Hello World! I'm Brainiac!\")"
   ]
  },
  {
   "cell_type": "code",
   "execution_count": null,
   "id": "a05208ce",
   "metadata": {},
   "outputs": [],
   "source": [
    "# Visualizar o resultado de uma operação matemática\n",
    "7 * 9"
   ]
  },
  {
   "cell_type": "code",
   "execution_count": null,
   "id": "3528c56b",
   "metadata": {},
   "outputs": [],
   "source": [
    "# Visualizando um vídeo de quem é Brainiac\n",
    "from IPython.display import IFrame\n",
    "IFrame(src=\"https://www.youtube.com/watch?v=VsXHZqMfs8s\", width = \"560\", height = \"315\")"
   ]
  }
 ],
 "metadata": {
  "kernelspec": {
   "display_name": "Python 3 (ipykernel)",
   "language": "python",
   "name": "python3"
  },
  "language_info": {
   "codemirror_mode": {
    "name": "ipython",
    "version": 3
   },
   "file_extension": ".py",
   "mimetype": "text/x-python",
   "name": "python",
   "nbconvert_exporter": "python",
   "pygments_lexer": "ipython3",
   "version": "3.9.13"
  }
 },
 "nbformat": 4,
 "nbformat_minor": 5
}
