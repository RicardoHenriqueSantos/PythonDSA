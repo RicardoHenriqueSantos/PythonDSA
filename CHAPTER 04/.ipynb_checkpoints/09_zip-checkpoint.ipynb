{
 "cells": [
  {
   "cell_type": "markdown",
   "id": "9004721f",
   "metadata": {},
   "source": [
    "### Zip"
   ]
  },
  {
   "cell_type": "code",
   "execution_count": null,
   "id": "a1dfffe3",
   "metadata": {},
   "outputs": [],
   "source": [
    "# Criando duas listas\n",
    "x = [1,2,3]\n",
    "y = [4,5,6]"
   ]
  },
  {
   "cell_type": "code",
   "execution_count": null,
   "id": "dfaf9e6c",
   "metadata": {},
   "outputs": [],
   "source": [
    "# Unindo as listas. Em Python3 retorna um iterator\n",
    "zip(x, y)"
   ]
  },
  {
   "cell_type": "code",
   "execution_count": null,
   "id": "b5c6f587",
   "metadata": {},
   "outputs": [],
   "source": [
    "# Perceba que zip retorna tuplas. Neste caso, uma lista de tuplas\n",
    "list(zip(x,y))"
   ]
  },
  {
   "cell_type": "code",
   "execution_count": null,
   "id": "9b84dff3",
   "metadata": {},
   "outputs": [],
   "source": [
    "# Atenção quando as sequências tiverem número diferente de elementos\n",
    "list(zip('ABCD', 'xy'))"
   ]
  },
  {
   "cell_type": "code",
   "execution_count": null,
   "id": "38eb1a7d",
   "metadata": {},
   "outputs": [],
   "source": [
    "# Criando duas listas\n",
    "a = [1,2,3]\n",
    "b = [4,5,6,7,8]"
   ]
  },
  {
   "cell_type": "code",
   "execution_count": null,
   "id": "99063900",
   "metadata": {},
   "outputs": [],
   "source": [
    "list(zip(a,b))"
   ]
  },
  {
   "cell_type": "code",
   "execution_count": null,
   "id": "8c9edbc8",
   "metadata": {},
   "outputs": [],
   "source": [
    "# Criando 2 dicionários\n",
    "d1 = {'a':1,'b':2}\n",
    "d2 = {'c':4,'d':5}"
   ]
  },
  {
   "cell_type": "code",
   "execution_count": null,
   "id": "2e6bae2d",
   "metadata": {},
   "outputs": [],
   "source": [
    "# Zip vai unir as chaves\n",
    "list(zip(d1,d2))"
   ]
  },
  {
   "cell_type": "code",
   "execution_count": null,
   "id": "6c6d7de1",
   "metadata": {},
   "outputs": [],
   "source": [
    "# Zip pode unir os valores (itens)\n",
    "list(zip(d1, d2.values()))"
   ]
  },
  {
   "cell_type": "code",
   "execution_count": null,
   "id": "3a918479",
   "metadata": {},
   "outputs": [],
   "source": [
    "# Criando uma função para trocar valores entre 2 dicionários\n",
    "def trocaValores(d1, d2):\n",
    "    dicTemp = {}\n",
    "    for d1key, d2val in zip(d1,d2.values()):\n",
    "        dicTemp[d1key] = d2val\n",
    "    return dicTemp"
   ]
  },
  {
   "cell_type": "code",
   "execution_count": null,
   "id": "444927a3",
   "metadata": {},
   "outputs": [],
   "source": [
    "trocaValores(d1, d2)"
   ]
  }
 ],
 "metadata": {
  "kernelspec": {
   "display_name": "Python 3 (ipykernel)",
   "language": "python",
   "name": "python3"
  },
  "language_info": {
   "codemirror_mode": {
    "name": "ipython",
    "version": 3
   },
   "file_extension": ".py",
   "mimetype": "text/x-python",
   "name": "python",
   "nbconvert_exporter": "python",
   "pygments_lexer": "ipython3",
   "version": "3.9.13"
  }
 },
 "nbformat": 4,
 "nbformat_minor": 5
}
