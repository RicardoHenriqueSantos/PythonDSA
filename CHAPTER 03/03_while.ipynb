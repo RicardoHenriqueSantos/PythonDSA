{
 "cells": [
  {
   "cell_type": "markdown",
   "id": "cb7608a5",
   "metadata": {},
   "source": [
    "### WHILE"
   ]
  },
  {
   "cell_type": "code",
   "execution_count": null,
   "id": "719683b4",
   "metadata": {},
   "outputs": [],
   "source": [
    "# Usando o while de 0 à 9\n",
    "cont = 0\n",
    "while cont <= 9:\n",
    "    print(cont)\n",
    "    cont = cont +1"
   ]
  },
  {
   "cell_type": "code",
   "execution_count": null,
   "id": "687dbd74",
   "metadata": {},
   "outputs": [],
   "source": [
    "# Usando o while com condicionais\n",
    "\n",
    "resp = True\n",
    "\n",
    "while resp == True:\n",
    "    num1 = int(input(\"Insira um número: \"))\n",
    "    num2 = int(input(\"Insira outro número: \"))\n",
    "    \n",
    "    if num1 > num2:\n",
    "        print(f\"O maior é: {num1}\")\n",
    "    \n",
    "    elif num1 < num2:\n",
    "        print(f\"O maior é: {num2}\")\n",
    "    \n",
    "    else:\n",
    "        print(\"Os números são iguais!\")\n",
    "    \n",
    "    resp = input(\"Deseja realizar outro processo [s/n]: \")\n",
    "    \n",
    "    if resp == \"s\":\n",
    "        resp = True\n",
    "    \n",
    "    elif resp == \"n\":\n",
    "        resp = False\n",
    "        print(\"Obrigado por utilizar nosso sistema.\")"
   ]
  }
 ],
 "metadata": {
  "kernelspec": {
   "display_name": "Python 3 (ipykernel)",
   "language": "python",
   "name": "python3"
  },
  "language_info": {
   "codemirror_mode": {
    "name": "ipython",
    "version": 3
   },
   "file_extension": ".py",
   "mimetype": "text/x-python",
   "name": "python",
   "nbconvert_exporter": "python",
   "pygments_lexer": "ipython3",
   "version": "3.9.13"
  }
 },
 "nbformat": 4,
 "nbformat_minor": 5
}
