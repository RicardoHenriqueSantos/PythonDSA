{
 "cells": [
  {
   "cell_type": "markdown",
   "id": "4d7713c2",
   "metadata": {},
   "source": [
    "### Exercícios"
   ]
  },
  {
   "cell_type": "markdown",
   "id": "bfa9fb00",
   "metadata": {},
   "source": [
    "#### Exercício 1 - Crie uma lista de 3 elementos e calcule a terceira potência de cada elemento."
   ]
  },
  {
   "cell_type": "code",
   "execution_count": 1,
   "id": "51438c9b",
   "metadata": {},
   "outputs": [
    {
     "name": "stdout",
     "output_type": "stream",
     "text": [
      "[27, 216, 729]\n"
     ]
    }
   ],
   "source": [
    "lista_exe_01 = [3, 6, 9]\n",
    "potencia = [item**3 for item in lista_exe_01]\n",
    "print(potencia)"
   ]
  },
  {
   "cell_type": "markdown",
   "id": "e35eee01",
   "metadata": {},
   "source": [
    "#### Exercício 2 - Reescreva o código abaixo, usando a função map(). O resultado final deve ser o mesmo!"
   ]
  },
  {
   "cell_type": "raw",
   "id": "3ead80fe",
   "metadata": {},
   "source": [
    "palavras = 'A Data Science Academy oferce os melhores cursos de análise de dados do Brasil'.split()\n",
    "resultado = [[w.upper(), w.lower(), len(w)] for w in palavras]\n",
    "for i in resultado:\n",
    "    print (i)"
   ]
  },
  {
   "cell_type": "code",
   "execution_count": null,
   "id": "f23df1f0",
   "metadata": {},
   "outputs": [],
   "source": [
    "resultado = map(lambda w: [w.upper(), w.lower(), len(w)], palavras)\n",
    "for item in resultado:\n",
    "    print(item)"
   ]
  },
  {
   "cell_type": "markdown",
   "id": "2ab16faf",
   "metadata": {},
   "source": [
    "#### Exercício 3 - Calcule a matriz transposta da matriz abaixo."
   ]
  },
  {
   "cell_type": "code",
   "execution_count": null,
   "id": "bb794a78",
   "metadata": {},
   "outputs": [],
   "source": [
    "matrix = [[1, 2],[3,4],[5,6],[7,8]]\n",
    "transpose = [[row[i] for row in matrix] for i in range(2)]\n",
    "print(transpose)"
   ]
  },
  {
   "cell_type": "markdown",
   "id": "d7004dca",
   "metadata": {},
   "source": [
    "#### Exercício 4 - Crie duas funções, uma para elevar um número ao quadrado e outra para elevar ao cubo. \n",
    "#### Aplique as duas funções aos elementos da lista abaixo. \n",
    "#### Obs: as duas funções devem ser aplicadas simultaneamente."
   ]
  },
  {
   "cell_type": "code",
   "execution_count": null,
   "id": "5097abee",
   "metadata": {},
   "outputs": [],
   "source": [
    "lista = [0, 1, 2, 3, 4]\n",
    "def square(x):\n",
    "        return (x**2)\n",
    "def cube(x):\n",
    "        return (x**3)\n",
    "funcs = [square, cube]\n",
    "for i in lista:\n",
    "    valor = map(lambda x: x(i), funcs)\n",
    "    print(list((valor)))"
   ]
  },
  {
   "cell_type": "markdown",
   "id": "d33d5174",
   "metadata": {},
   "source": [
    "#### Exercício 5 - Abaixo você encontra duas listas. Faça com que cada elemento da listaA seja elevado ao elemento correspondente na listaB."
   ]
  },
  {
   "cell_type": "code",
   "execution_count": null,
   "id": "416b6cab",
   "metadata": {},
   "outputs": [],
   "source": [
    "listaA = [2, 3, 4]\n",
    "listaB = [10, 11, 12]\n",
    "list(map(pow, listaA, listaB))"
   ]
  },
  {
   "cell_type": "markdown",
   "id": "f112bb33",
   "metadata": {},
   "source": [
    "#### Exercício 6 - Considerando o range de valores abaixo, use a função filter() para retornar apenas os valores negativos."
   ]
  },
  {
   "cell_type": "code",
   "execution_count": null,
   "id": "aa0346ac",
   "metadata": {},
   "outputs": [],
   "source": [
    "range(-5, 5)\n",
    "list(filter((lambda x: x < 0), range(-5,5)))"
   ]
  },
  {
   "cell_type": "markdown",
   "id": "ee0b754a",
   "metadata": {},
   "source": [
    "#### Exercício 7 - Usando a função filter(), encontre os valores que são comuns às duas listas abaixo."
   ]
  },
  {
   "cell_type": "code",
   "execution_count": null,
   "id": "f8a161c4",
   "metadata": {},
   "outputs": [],
   "source": [
    "a = [1,2,3,5,7,9]\n",
    "b = [2,3,5,6,7,8]\n",
    "print (list(filter(lambda x: x in a, b)))"
   ]
  },
  {
   "cell_type": "markdown",
   "id": "0989e245",
   "metadata": {},
   "source": [
    "#### Exercício 8 - Considere o código abaixo. Obtenha o mesmo resultado usando o pacote time."
   ]
  },
  {
   "cell_type": "code",
   "execution_count": null,
   "id": "40c9438a",
   "metadata": {},
   "outputs": [],
   "source": [
    "import datetime\n",
    "print (datetime.datetime.now().strftime(\"%d/%m/%Y %H:%M\"))\n",
    "import time\n",
    "print (time.strftime(\"%d/%m/%Y %H:%M\"))"
   ]
  },
  {
   "cell_type": "markdown",
   "id": "0ada20fb",
   "metadata": {},
   "source": [
    "#### Exercício 9 - Considere os dois dicionários abaixo. Crie um terceiro dicionário com as chaves do dicionário 1 e os valores do dicionário 2."
   ]
  },
  {
   "cell_type": "code",
   "execution_count": null,
   "id": "8d4e22ff",
   "metadata": {},
   "outputs": [],
   "source": [
    "dict1 = {'a':1,'b':2}\n",
    "dict2 = {'c':4,'d':5}\n",
    "def trocaValores(d1, d2):\n",
    "    dicTemp = {}\n",
    "    for d1key, d2val in zip(d1,d2.values()):\n",
    "        dicTemp[d1key] = d2val\n",
    "    return dicTemp\n",
    "dict3 = trocaValores(dict1, dict2)\n",
    "print(dict3)"
   ]
  },
  {
   "cell_type": "markdown",
   "id": "71189c2f",
   "metadata": {},
   "source": [
    "#### Exercício 10 - Considere a lista abaixo e retorne apenas os elementos cujo índice for maior que 5."
   ]
  },
  {
   "cell_type": "code",
   "execution_count": null,
   "id": "20d47c49",
   "metadata": {},
   "outputs": [],
   "source": [
    "lista = ['a', 'b', 'c', 'd', 'e', 'f', 'g', 'h']\n",
    "for indice, valor in enumerate(lista):\n",
    "    if indice <= 5:\n",
    "        continue\n",
    "    else:\n",
    "        print (valor)"
   ]
  }
 ],
 "metadata": {
  "kernelspec": {
   "display_name": "Python 3 (ipykernel)",
   "language": "python",
   "name": "python3"
  },
  "language_info": {
   "codemirror_mode": {
    "name": "ipython",
    "version": 3
   },
   "file_extension": ".py",
   "mimetype": "text/x-python",
   "name": "python",
   "nbconvert_exporter": "python",
   "pygments_lexer": "ipython3",
   "version": "3.9.13"
  }
 },
 "nbformat": 4,
 "nbformat_minor": 5
}
