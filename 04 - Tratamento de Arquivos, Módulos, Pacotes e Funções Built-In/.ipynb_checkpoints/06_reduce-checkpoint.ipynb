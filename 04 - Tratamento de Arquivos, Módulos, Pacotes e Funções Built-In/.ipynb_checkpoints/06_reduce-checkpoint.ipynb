{
 "cells": [
  {
   "cell_type": "markdown",
   "id": "ba25ef1e",
   "metadata": {},
   "source": [
    "### Reduce"
   ]
  },
  {
   "cell_type": "code",
   "execution_count": null,
   "id": "cfe3ae3c",
   "metadata": {},
   "outputs": [],
   "source": [
    "# Importando a função reduce do módulo functools\n",
    "from functools import reduce"
   ]
  },
  {
   "cell_type": "code",
   "execution_count": null,
   "id": "f6b55b94",
   "metadata": {},
   "outputs": [],
   "source": [
    "# Criando uma lista\n",
    "lista = [47,11,42,13]"
   ]
  },
  {
   "cell_type": "code",
   "execution_count": null,
   "id": "a2777637",
   "metadata": {},
   "outputs": [],
   "source": [
    "lista"
   ]
  },
  {
   "cell_type": "code",
   "execution_count": null,
   "id": "f4f610e0",
   "metadata": {},
   "outputs": [],
   "source": [
    "# Função \n",
    "def soma(a,b):\n",
    "    x = a + b\n",
    "    return x"
   ]
  },
  {
   "cell_type": "code",
   "execution_count": null,
   "id": "847f0678",
   "metadata": {},
   "outputs": [],
   "source": [
    "# Usando reduce com uma função e uma lista. A função vai retornar o valor máximo\n",
    "reduce(soma, lista)"
   ]
  },
  {
   "cell_type": "code",
   "execution_count": null,
   "id": "510d4df2",
   "metadata": {},
   "outputs": [],
   "source": [
    "from IPython.display import Image\n",
    "Image('arquivos/reduce.png')"
   ]
  },
  {
   "cell_type": "code",
   "execution_count": null,
   "id": "c7853cbe",
   "metadata": {},
   "outputs": [],
   "source": [
    "# Criando uma lista\n",
    "lst = [47, 11, 42, 13]"
   ]
  },
  {
   "cell_type": "code",
   "execution_count": null,
   "id": "926a0d91",
   "metadata": {},
   "outputs": [],
   "source": [
    "# Usando a função reduce() com lambda\n",
    "reduce(lambda x,y: x+y, lst)"
   ]
  },
  {
   "cell_type": "code",
   "execution_count": null,
   "id": "3d5b59bc",
   "metadata": {},
   "outputs": [],
   "source": [
    "# Podemos atribuir a expressão lambda a uma variável\n",
    "max_find2 = lambda a,b: a if (a > b) else b"
   ]
  },
  {
   "cell_type": "code",
   "execution_count": null,
   "id": "b5fac76e",
   "metadata": {},
   "outputs": [],
   "source": [
    "type(max_find2)"
   ]
  },
  {
   "cell_type": "code",
   "execution_count": null,
   "id": "ad2fc980",
   "metadata": {},
   "outputs": [],
   "source": [
    "# Reduzindo a lista até o valor máximo, através da função criada com a expressão lambda\n",
    "reduce(max_find2, lst)"
   ]
  }
 ],
 "metadata": {
  "kernelspec": {
   "display_name": "Python 3 (ipykernel)",
   "language": "python",
   "name": "python3"
  },
  "language_info": {
   "codemirror_mode": {
    "name": "ipython",
    "version": 3
   },
   "file_extension": ".py",
   "mimetype": "text/x-python",
   "name": "python",
   "nbconvert_exporter": "python",
   "pygments_lexer": "ipython3",
   "version": "3.9.13"
  }
 },
 "nbformat": 4,
 "nbformat_minor": 5
}
