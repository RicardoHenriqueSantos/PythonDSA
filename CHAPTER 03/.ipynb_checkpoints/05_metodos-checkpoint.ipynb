{
 "cells": [
  {
   "cell_type": "markdown",
   "id": "7098064e",
   "metadata": {},
   "source": [
    "# CHAPTER 03\n",
    "## Métodos"
   ]
  },
  {
   "cell_type": "code",
   "execution_count": null,
   "id": "c3238644",
   "metadata": {},
   "outputs": [],
   "source": [
    "# Criando uma lista e usando um método para inserir um novo item\n",
    "lista = [1, 2, 3, 4]\n",
    "lista.append(5)\n",
    "print(lista)"
   ]
  },
  {
   "cell_type": "code",
   "execution_count": null,
   "id": "c1be8cd1",
   "metadata": {},
   "outputs": [],
   "source": [
    "# A função help() explica como utilizar cada método de um objeto\n",
    "help(lista.count)"
   ]
  },
  {
   "cell_type": "code",
   "execution_count": null,
   "id": "543299b1",
   "metadata": {},
   "outputs": [],
   "source": [
    "# A função dir() mostra todos os métodos e atributos de um objeto\n",
    "dir(lista)"
   ]
  },
  {
   "cell_type": "code",
   "execution_count": null,
   "id": "6c3103f6",
   "metadata": {},
   "outputs": [],
   "source": [
    "# Um método pode ser utilizado dentro de uma função como o print\n",
    "print(f\"A quantidade de números na lista é de {len(lista)} e há o número 1: {lista.count(1)}X\")"
   ]
  },
  {
   "cell_type": "markdown",
   "id": "7f8d3bf8",
   "metadata": {},
   "source": [
    "# THE END"
   ]
  }
 ],
 "metadata": {
  "kernelspec": {
   "display_name": "Python 3 (ipykernel)",
   "language": "python",
   "name": "python3"
  },
  "language_info": {
   "codemirror_mode": {
    "name": "ipython",
    "version": 3
   },
   "file_extension": ".py",
   "mimetype": "text/x-python",
   "name": "python",
   "nbconvert_exporter": "python",
   "pygments_lexer": "ipython3",
   "version": "3.9.13"
  }
 },
 "nbformat": 4,
 "nbformat_minor": 5
}
