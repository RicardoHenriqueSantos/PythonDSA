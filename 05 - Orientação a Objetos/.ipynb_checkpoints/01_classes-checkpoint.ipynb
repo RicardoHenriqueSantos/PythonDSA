{
 "cells": [
  {
   "cell_type": "markdown",
   "id": "6f1988db",
   "metadata": {},
   "source": [
    "### Classes"
   ]
  },
  {
   "cell_type": "code",
   "execution_count": null,
   "id": "01eb8612",
   "metadata": {},
   "outputs": [],
   "source": [
    "# Criando uma classe chamada Livro\n",
    "class Livro():\n",
    "    # Este método vai inicializar cada objeto criado a partir desta classe\n",
    "    # O nome deste método é __init__\n",
    "    # (self) é uma referência a cada atributo de um objeto criado a partir desta classe\n",
    "    def __init__(self):\n",
    "        # Atributos de cada objeto criado a partir desta classe. \n",
    "        # O self indica que estes são atributos dos objetos\n",
    "        self.titulo = \"O Ceticismo da Fé\"\n",
    "        self.isbn = 7725859\n",
    "        print(\"Construtor chamado para criar um objeto desta classe\")\n",
    "    # Métodos são funções, que recebem como parâmetro atributos do objeto criado    \n",
    "    def imprime(self):\n",
    "        print(f\"Foi criado o objeto {self.titulo} e ISBN {self.isbn}\")"
   ]
  },
  {
   "cell_type": "code",
   "execution_count": null,
   "id": "6090592f",
   "metadata": {},
   "outputs": [],
   "source": [
    "# Criando uma instância da classe Livro\n",
    "Livro1 = Livro()"
   ]
  },
  {
   "cell_type": "code",
   "execution_count": null,
   "id": "a2321921",
   "metadata": {},
   "outputs": [],
   "source": [
    "# Tipo do Objeto Livro1\n",
    "type(Livro1)"
   ]
  },
  {
   "cell_type": "code",
   "execution_count": null,
   "id": "4f3c1d0b",
   "metadata": {},
   "outputs": [],
   "source": [
    "# Atributo do objeto Livro1\n",
    "Livro1.titulo"
   ]
  },
  {
   "cell_type": "code",
   "execution_count": null,
   "id": "0de8238b",
   "metadata": {},
   "outputs": [],
   "source": [
    "# Método do objeto Livro1\n",
    "Livro1.imprime()"
   ]
  },
  {
   "cell_type": "code",
   "execution_count": null,
   "id": "efb0459c",
   "metadata": {},
   "outputs": [],
   "source": [
    "# Criando a classe Livro com parâmetros no método construtor\n",
    "class Livro():\n",
    "    def __init__(self, titulo, isbn):\n",
    "        self.titulo = titulo\n",
    "        self.isbn = isbn\n",
    "        print(\"Construtor chamado para criar um objeto desta classe\") \n",
    "    def imprime(self, titulo, isbn):\n",
    "        print(f\"Este é o livro {titulo} e ISBN {isbn}\")"
   ]
  },
  {
   "cell_type": "code",
   "execution_count": null,
   "id": "08bce632",
   "metadata": {},
   "outputs": [],
   "source": [
    "# Criando o objeto Livro2 que é uma instância da classe Livro\n",
    "Livro2 = Livro(\"O Cristianismo Puro e Simples\", 77886611)"
   ]
  },
  {
   "cell_type": "code",
   "execution_count": null,
   "id": "4aa33128",
   "metadata": {},
   "outputs": [],
   "source": [
    "Livro2.titulo"
   ]
  },
  {
   "cell_type": "code",
   "execution_count": null,
   "id": "b05b9ebf",
   "metadata": {},
   "outputs": [],
   "source": [
    "# Método do objeto Livro2\n",
    "Livro2.imprime(\"O Cristianismo Puro e Simples\", 77886611)"
   ]
  },
  {
   "cell_type": "code",
   "execution_count": null,
   "id": "5cd0039c",
   "metadata": {},
   "outputs": [],
   "source": [
    "# Criando a classe cachorro\n",
    "class Cachorro():\n",
    "    def __init__(self, raça):\n",
    "        self.raça = raça\n",
    "        print(\"Construtor chamado para criar um objeto desta classe\")"
   ]
  },
  {
   "cell_type": "code",
   "execution_count": null,
   "id": "aa6e95df",
   "metadata": {},
   "outputs": [],
   "source": [
    "# Criando um objeto a partir da classe cachorro\n",
    "Rex = Cachorro(raça='Labrador')"
   ]
  },
  {
   "cell_type": "code",
   "execution_count": null,
   "id": "30bedbb5",
   "metadata": {},
   "outputs": [],
   "source": [
    "# Criando um objeto a partir da classe cachorro\n",
    "Draco = Cachorro(raça='Huskie')"
   ]
  },
  {
   "cell_type": "code",
   "execution_count": null,
   "id": "d7835d9a",
   "metadata": {},
   "outputs": [],
   "source": [
    "# Atributo da classe cachorro, utilizado pelo objeto criado\n",
    "Rex.raça"
   ]
  },
  {
   "cell_type": "code",
   "execution_count": null,
   "id": "da672c78",
   "metadata": {},
   "outputs": [],
   "source": [
    "# Atributo da classe cachorro, utilizado pelo objeto criado\n",
    "Draco.raça"
   ]
  }
 ],
 "metadata": {
  "kernelspec": {
   "display_name": "Python 3 (ipykernel)",
   "language": "python",
   "name": "python3"
  },
  "language_info": {
   "codemirror_mode": {
    "name": "ipython",
    "version": 3
   },
   "file_extension": ".py",
   "mimetype": "text/x-python",
   "name": "python",
   "nbconvert_exporter": "python",
   "pygments_lexer": "ipython3",
   "version": "3.9.13"
  }
 },
 "nbformat": 4,
 "nbformat_minor": 5
}
