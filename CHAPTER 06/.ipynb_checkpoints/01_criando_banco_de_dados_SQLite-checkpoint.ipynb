{
 "cells": [
  {
   "cell_type": "markdown",
   "id": "c3e4fd88",
   "metadata": {},
   "source": [
    "### Acessando o Banco de Dados"
   ]
  },
  {
   "cell_type": "code",
   "execution_count": null,
   "id": "cef9bc4a",
   "metadata": {},
   "outputs": [],
   "source": [
    "# Reemove o arquivo com o banco de dados SQLite (caso exista)\n",
    "import os\n",
    "os.remove(\"escola.db\") if os.path.exists(\"escola.db\") else None"
   ]
  },
  {
   "cell_type": "code",
   "execution_count": null,
   "id": "35e458e2",
   "metadata": {},
   "outputs": [],
   "source": [
    "# Importando o módulo de acesso ao SQLite\n",
    "import sqlite3"
   ]
  },
  {
   "cell_type": "code",
   "execution_count": null,
   "id": "370dd79e",
   "metadata": {},
   "outputs": [],
   "source": [
    "# Cria uma conexão com o banco de dados. Se o banco de dados não existir, ele é criado neste momento\n",
    "con = sqlite3.connect('escola.db')"
   ]
  },
  {
   "cell_type": "code",
   "execution_count": null,
   "id": "7f3efeef",
   "metadata": {},
   "outputs": [],
   "source": [
    "type(con)"
   ]
  },
  {
   "cell_type": "code",
   "execution_count": null,
   "id": "d8e8db0a",
   "metadata": {},
   "outputs": [],
   "source": [
    "# Criando um cursor - Um cursor permite percorrer todos os registros em um conjunto de dados\n",
    "cur = con.cursor()"
   ]
  },
  {
   "cell_type": "code",
   "execution_count": null,
   "id": "ad0f91a9",
   "metadata": {},
   "outputs": [],
   "source": [
    "type(cur)"
   ]
  },
  {
   "cell_type": "code",
   "execution_count": null,
   "id": "fa9b7b6f",
   "metadata": {},
   "outputs": [],
   "source": [
    "# Cria uma instrução sql\n",
    "sql_create = \"create table cursos (id integer primary key, titulo varchar(100), categoria varchar(140))\""
   ]
  },
  {
   "cell_type": "code",
   "execution_count": null,
   "id": "58c56b8d",
   "metadata": {},
   "outputs": [],
   "source": [
    "# Executando a instrução sql no cursor\n",
    "cur.execute(sql_create)"
   ]
  },
  {
   "cell_type": "code",
   "execution_count": null,
   "id": "8a8d3cb6",
   "metadata": {},
   "outputs": [],
   "source": [
    "# Criando outra sentença SQL para inserir registros\n",
    "sql_insert = \"insert into cursos values (?, ?, ?)\""
   ]
  },
  {
   "cell_type": "code",
   "execution_count": null,
   "id": "bc6cfa36",
   "metadata": {},
   "outputs": [],
   "source": [
    "# Dados\n",
    "recset = [(1000, 'Ciência de Dados', 'Data Science'),\n",
    "          (1001, 'Big Data Fundamentos', 'Big Data'),\n",
    "          (1002, 'Python Fundamentos', 'Análise de Dados')]"
   ]
  },
  {
   "cell_type": "code",
   "execution_count": null,
   "id": "f1eeb18a",
   "metadata": {},
   "outputs": [],
   "source": [
    "# Inserindo os registros\n",
    "for rec in recset:\n",
    "    cur.execute(sql_insert, rec)"
   ]
  },
  {
   "cell_type": "code",
   "execution_count": null,
   "id": "a92e2459",
   "metadata": {},
   "outputs": [],
   "source": [
    "# Grava a transação\n",
    "con.commit()"
   ]
  },
  {
   "cell_type": "code",
   "execution_count": null,
   "id": "c14d7c41",
   "metadata": {},
   "outputs": [],
   "source": [
    "# Criando outra sentença SQL para selecionar registros\n",
    "sql_select = \"select * from cursos\""
   ]
  },
  {
   "cell_type": "code",
   "execution_count": null,
   "id": "5274291c",
   "metadata": {},
   "outputs": [],
   "source": [
    "# Seleciona todos os registros e recupera os registros\n",
    "cur.execute(sql_select)\n",
    "dados = cur.fetchall()"
   ]
  },
  {
   "cell_type": "code",
   "execution_count": null,
   "id": "45868c32",
   "metadata": {},
   "outputs": [],
   "source": [
    "# Mostra\n",
    "for linha in dados:\n",
    "    print ('Curso Id: %d, Título: %s, Categoria: %s \\n' % linha)"
   ]
  },
  {
   "cell_type": "code",
   "execution_count": null,
   "id": "00ef8958",
   "metadata": {},
   "outputs": [],
   "source": [
    "# Gerando outros registros\n",
    "recset = [(1003, 'Gestão de Dados com MongoDB', 'Big Data'),\n",
    "          (1004, 'R Fundamentos', 'Análise de Dados')]\n",
    "\n",
    "# Inserindo os registros\n",
    "for rec in recset:\n",
    "    cur.execute(sql_insert, rec)\n",
    "    \n",
    "# Gravando a transação\n",
    "con.commit()"
   ]
  },
  {
   "cell_type": "code",
   "execution_count": null,
   "id": "81775c22",
   "metadata": {},
   "outputs": [],
   "source": [
    "# Seleciona todos os registros\n",
    "cur.execute('select * from cursos')\n",
    "\n",
    "# Recupera os resultados\n",
    "recset = cur.fetchall()\n",
    "\n",
    "# Mostra\n",
    "for rec in recset:\n",
    "    print ('Curso Id: %d, Título: %s, Categoria: %s \\n' % rec)"
   ]
  },
  {
   "cell_type": "code",
   "execution_count": null,
   "id": "ef52a905",
   "metadata": {},
   "outputs": [],
   "source": [
    "# Fecha a conexão\n",
    "con.close()"
   ]
  }
 ],
 "metadata": {
  "kernelspec": {
   "display_name": "Python 3 (ipykernel)",
   "language": "python",
   "name": "python3"
  },
  "language_info": {
   "codemirror_mode": {
    "name": "ipython",
    "version": 3
   },
   "file_extension": ".py",
   "mimetype": "text/x-python",
   "name": "python",
   "nbconvert_exporter": "python",
   "pygments_lexer": "ipython3",
   "version": "3.9.13"
  }
 },
 "nbformat": 4,
 "nbformat_minor": 5
}
