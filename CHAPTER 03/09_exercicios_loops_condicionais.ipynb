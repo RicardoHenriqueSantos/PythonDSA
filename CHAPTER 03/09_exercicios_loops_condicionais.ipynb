{
 "cells": [
  {
   "cell_type": "markdown",
   "id": "a7cc46ec",
   "metadata": {},
   "source": [
    "### Exercícios Loops Condicionais"
   ]
  },
  {
   "cell_type": "markdown",
   "id": "db29ab87",
   "metadata": {},
   "source": [
    "#### Exercício 1 - Crie uma estrutura que pergunte ao usuário qual o dia da semana. Se o dia for igual a Domingo ou igual a sábado, imprima na tela \"Hoje é dia de descanso\", caso contrário imprima na tela \"Você precisa trabalhar!\""
   ]
  },
  {
   "cell_type": "code",
   "execution_count": null,
   "id": "e0712c11",
   "metadata": {},
   "outputs": [],
   "source": [
    "dia = input(\"Olá! Qual é o dia da semana: \")\n",
    "if dia.upper() == \"DOMINGO\" or dia.upper() == \"SÁBADO\":\n",
    "    print(\"Hoje é dia de descanso.\")\n",
    "else:\n",
    "    print(\"Você precisa trabalhar!\")"
   ]
  },
  {
   "cell_type": "markdown",
   "id": "f94899c7",
   "metadata": {},
   "source": [
    "#### Exercício 2 - Crie uma lista de 5 frutas e verifique se a fruta 'Morango' faz parte da lista."
   ]
  },
  {
   "cell_type": "code",
   "execution_count": null,
   "id": "31c17621",
   "metadata": {},
   "outputs": [],
   "source": [
    "lista = [\"Morango\", \"Chocolate\", \"Abacaxi\", \"Maracujá\", \"Laranja\"]\n",
    "for fruta in lista:\n",
    "    if fruta == \"Morango\":\n",
    "        print(f\"{fruta} consta na lista!\")"
   ]
  },
  {
   "cell_type": "markdown",
   "id": "fa342c26",
   "metadata": {},
   "source": [
    "#### Exercício 3 - Crie uma tupla de 4 elementos, multiplique cada elemento da tupla por 2 e guarde os resultados em uma lista"
   ]
  },
  {
   "cell_type": "code",
   "execution_count": null,
   "id": "91c68778",
   "metadata": {},
   "outputs": [],
   "source": [
    "tupla = (1, 2, 3, 4)\n",
    "lista = []\n",
    "for cont in tupla:\n",
    "    valor = cont * 2\n",
    "    lista.append(valor)\n",
    "print(lista)"
   ]
  },
  {
   "cell_type": "markdown",
   "id": "03006724",
   "metadata": {},
   "source": [
    "#### Exercício 4 - Crie uma sequência de números pares entre 100 e 150 e imprima na tela."
   ]
  },
  {
   "cell_type": "code",
   "execution_count": null,
   "id": "9766d805",
   "metadata": {},
   "outputs": [],
   "source": [
    "for cont in range(102, 150, 2):\n",
    "    print(cont)"
   ]
  },
  {
   "cell_type": "markdown",
   "id": "c96e3d97",
   "metadata": {},
   "source": [
    "#### Exercício 5 - Crie uma variável chamada temperatura e atribua o valor 40. Enquanto temperatura for maior que 35, imprima as temperaturas na tela"
   ]
  },
  {
   "cell_type": "code",
   "execution_count": null,
   "id": "f681f291",
   "metadata": {},
   "outputs": [],
   "source": [
    "temperatura = 40\n",
    "while temperatura > 35:\n",
    "    print(temperatura)\n",
    "    temperatura = temperatura - 1"
   ]
  },
  {
   "cell_type": "markdown",
   "id": "6c3138e5",
   "metadata": {},
   "source": [
    "#### Exercício 6 - Crie uma variável chamada contador = 0. Enquanto counter for menor que 100, imprima os valores na tela, mas quando for encontrado o valor 23, interrompa a execução do programa."
   ]
  },
  {
   "cell_type": "code",
   "execution_count": null,
   "id": "ad1e5b32",
   "metadata": {},
   "outputs": [],
   "source": [
    "contador = 0\n",
    "while contador < 100 and contador!= 23:\n",
    "    print(contador)\n",
    "    contador = contador + 1"
   ]
  },
  {
   "cell_type": "markdown",
   "id": "fb279b8f",
   "metadata": {},
   "source": [
    "#### Exercício 7 - Crie uma lista vazia e uma variável com valor 4. Enquanto o valor da variável for menor ou igual a 20, adicione à lista, apenas os valores pares e imprima a lista"
   ]
  },
  {
   "cell_type": "code",
   "execution_count": null,
   "id": "ebff2230",
   "metadata": {},
   "outputs": [],
   "source": [
    "lista = []\n",
    "var = 4\n",
    "while var <= 20:\n",
    "    lista.append(var)\n",
    "    var = var + 2\n",
    "print(lista)"
   ]
  },
  {
   "cell_type": "markdown",
   "id": "fb4a0698",
   "metadata": {},
   "source": [
    "#### Exercício 8 - Transforme o resultado desta função range em uma lista: range(5, 45, 2)"
   ]
  },
  {
   "cell_type": "code",
   "execution_count": null,
   "id": "a40db416",
   "metadata": {},
   "outputs": [],
   "source": [
    "lista_8 = range(5, 45, 2)\n",
    "print(list(lista_8))"
   ]
  },
  {
   "cell_type": "markdown",
   "id": "86da8464",
   "metadata": {},
   "source": [
    "#### Exercício 9 - Faça a correção dos erros no código abaixo e execute o programa. Dica: são 3 erros."
   ]
  },
  {
   "cell_type": "code",
   "execution_count": null,
   "id": "fbce482d",
   "metadata": {},
   "outputs": [],
   "source": [
    "temperatura = float(input('Qual a temperatura? '))\n",
    "if temperatura > 30:\n",
    "    print('Vista roupas leves.')\n",
    "else:\n",
    "    print('Busque seus casacos.')"
   ]
  },
  {
   "cell_type": "markdown",
   "id": "7e73b759",
   "metadata": {},
   "source": [
    "#### Exercício 10 - Faça um programa que conte quantas vezes a letra \"r\" aparece na frase abaixo. Use um placeholder na sua instrução de impressão.\n",
    "#### “É melhor, muito melhor, contentar-se com a realidade; se ela não é tão brilhante como os sonhos, tem pelo menos a vantagem de existir.” (Machado de Assis)"
   ]
  },
  {
   "cell_type": "code",
   "execution_count": null,
   "id": "cb57ecd6",
   "metadata": {},
   "outputs": [],
   "source": [
    "frase = \"É melhor, muito melhor, contentar-se com a realidade; se ela não é tão brilhante como os sonhos, tem pelo menos a vantagem de existir.\"\n",
    "cont = 0\n",
    "for letra in frase:\n",
    "    if letra == 'r':\n",
    "        cont = cont + 1\n",
    "print(\"A letra 'r' aparece %s na frase.\" %cont)"
   ]
  },
  {
   "cell_type": "code",
   "execution_count": null,
   "id": "31ca8c6d",
   "metadata": {},
   "outputs": [],
   "source": []
  }
 ],
 "metadata": {
  "kernelspec": {
   "display_name": "Python 3 (ipykernel)",
   "language": "python",
   "name": "python3"
  },
  "language_info": {
   "codemirror_mode": {
    "name": "ipython",
    "version": 3
   },
   "file_extension": ".py",
   "mimetype": "text/x-python",
   "name": "python",
   "nbconvert_exporter": "python",
   "pygments_lexer": "ipython3",
   "version": "3.9.13"
  }
 },
 "nbformat": 4,
 "nbformat_minor": 5
}
