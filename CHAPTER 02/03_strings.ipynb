{
 "cells": [
  {
   "cell_type": "markdown",
   "id": "50a6ad34",
   "metadata": {},
   "source": [
    "### Strings"
   ]
  },
  {
   "cell_type": "code",
   "execution_count": null,
   "id": "7aa9466e",
   "metadata": {},
   "outputs": [],
   "source": [
    "# Atribuindo uma String à uma variável\n",
    "mensagem = \"Brainiac\""
   ]
  },
  {
   "cell_type": "code",
   "execution_count": null,
   "id": "73f35b6c",
   "metadata": {},
   "outputs": [],
   "source": [
    "# Imprimindo uma variável\n",
    "print(mensagem)"
   ]
  },
  {
   "cell_type": "code",
   "execution_count": null,
   "id": "e009a0b0",
   "metadata": {},
   "outputs": [],
   "source": [
    "# Imprimindo uma mensagem e também com quebraa de linha\n",
    "print(\"Brainiac Vs Superman\")"
   ]
  },
  {
   "cell_type": "code",
   "execution_count": null,
   "id": "04fff46c",
   "metadata": {},
   "outputs": [],
   "source": [
    "print(\"Brainiac \\nVs \\nSuperman\")"
   ]
  },
  {
   "cell_type": "markdown",
   "id": "7cf87796",
   "metadata": {},
   "source": [
    "### Indexando Strings"
   ]
  },
  {
   "cell_type": "code",
   "execution_count": null,
   "id": "d1025b32",
   "metadata": {},
   "outputs": [],
   "source": [
    "# B R A I N I A C\n",
    "# 0 1 2 3 4 5 6 7"
   ]
  },
  {
   "cell_type": "code",
   "execution_count": null,
   "id": "3792fc94",
   "metadata": {},
   "outputs": [],
   "source": [
    "print(mensagem[0])"
   ]
  },
  {
   "cell_type": "code",
   "execution_count": null,
   "id": "a5f4498b",
   "metadata": {},
   "outputs": [],
   "source": [
    "print(mensagem[3])"
   ]
  },
  {
   "cell_type": "code",
   "execution_count": null,
   "id": "42533d2a",
   "metadata": {},
   "outputs": [],
   "source": [
    "print(mensagem[7])"
   ]
  },
  {
   "cell_type": "code",
   "execution_count": null,
   "id": "fbaa75e5",
   "metadata": {},
   "outputs": [],
   "source": [
    "# Utilizando \":\" para executar um slicing"
   ]
  },
  {
   "cell_type": "code",
   "execution_count": null,
   "id": "366284b5",
   "metadata": {},
   "outputs": [],
   "source": [
    "mensagem[1:]"
   ]
  },
  {
   "cell_type": "code",
   "execution_count": null,
   "id": "8825e9c4",
   "metadata": {},
   "outputs": [],
   "source": [
    "mensagem[:5]"
   ]
  },
  {
   "cell_type": "code",
   "execution_count": null,
   "id": "aa95ca64",
   "metadata": {},
   "outputs": [],
   "source": [
    "mensagem[-1]"
   ]
  },
  {
   "cell_type": "code",
   "execution_count": null,
   "id": "02365400",
   "metadata": {},
   "outputs": [],
   "source": [
    "mensagem[:-3]"
   ]
  },
  {
   "cell_type": "code",
   "execution_count": null,
   "id": "6d87e532",
   "metadata": {},
   "outputs": [],
   "source": [
    "mensagem[::1]"
   ]
  },
  {
   "cell_type": "code",
   "execution_count": null,
   "id": "27ad2288",
   "metadata": {},
   "outputs": [],
   "source": [
    "mensagem[::2]"
   ]
  },
  {
   "cell_type": "code",
   "execution_count": null,
   "id": "8acb231b",
   "metadata": {},
   "outputs": [],
   "source": [
    "mensagem[::3]"
   ]
  },
  {
   "cell_type": "code",
   "execution_count": null,
   "id": "73be4b48",
   "metadata": {},
   "outputs": [],
   "source": [
    "mensagem[::-1]"
   ]
  },
  {
   "cell_type": "markdown",
   "id": "50ecb1d1",
   "metadata": {},
   "source": [
    "### Propriedades de Strings"
   ]
  },
  {
   "cell_type": "code",
   "execution_count": null,
   "id": "988bf047",
   "metadata": {},
   "outputs": [],
   "source": [
    "# Podemos usar uma multiplicação para repetições\n",
    "mensagem * 7"
   ]
  },
  {
   "cell_type": "markdown",
   "id": "d265571c",
   "metadata": {},
   "source": [
    "### Funções Built-in de Strings"
   ]
  },
  {
   "cell_type": "code",
   "execution_count": null,
   "id": "f240af3b",
   "metadata": {},
   "outputs": [],
   "source": [
    "# Upper - Transforma todas as letras da mensagem para maiúsculas\n",
    "mensagem.upper()"
   ]
  },
  {
   "cell_type": "code",
   "execution_count": null,
   "id": "646ff8e2",
   "metadata": {},
   "outputs": [],
   "source": [
    "# Lower - Transforma todas as letras da mensagem para minúsculas\n",
    "mensagem.lower()"
   ]
  },
  {
   "cell_type": "code",
   "execution_count": null,
   "id": "bbceaab1",
   "metadata": {},
   "outputs": [],
   "source": [
    "# Split - Dividir uma String por espaços em branco\n",
    "mensagem.split()"
   ]
  },
  {
   "cell_type": "code",
   "execution_count": null,
   "id": "d07c2a3f",
   "metadata": {},
   "outputs": [],
   "source": [
    "# Dividindo por caractere específico\n",
    "mensagem.split(\"n\")"
   ]
  },
  {
   "cell_type": "markdown",
   "id": "6ecf247a",
   "metadata": {},
   "source": [
    "### Funções String"
   ]
  },
  {
   "cell_type": "code",
   "execution_count": null,
   "id": "7803ed93",
   "metadata": {},
   "outputs": [],
   "source": [
    "texto = \"welcome to the Python\""
   ]
  },
  {
   "cell_type": "code",
   "execution_count": null,
   "id": "831c68b5",
   "metadata": {},
   "outputs": [],
   "source": [
    "# Transforma a primeira letra do texto em maiúscula\n",
    "texto.capitalize()"
   ]
  },
  {
   "cell_type": "code",
   "execution_count": null,
   "id": "3c9a96dd",
   "metadata": {},
   "outputs": [],
   "source": [
    "# Contabiliza quantas letras há no texto\n",
    "texto.count(\"t\")"
   ]
  },
  {
   "cell_type": "code",
   "execution_count": null,
   "id": "bfb1ac01",
   "metadata": {},
   "outputs": [],
   "source": [
    "# Busca o index da letra informada\n",
    "texto.find(\"P\")"
   ]
  },
  {
   "cell_type": "markdown",
   "id": "943cd8cc",
   "metadata": {},
   "source": [
    "### Comparando Strings"
   ]
  },
  {
   "cell_type": "code",
   "execution_count": null,
   "id": "24827f4c",
   "metadata": {},
   "outputs": [],
   "source": [
    "print(\"Python\" == \"Java\")"
   ]
  },
  {
   "cell_type": "code",
   "execution_count": null,
   "id": "9abbafce",
   "metadata": {},
   "outputs": [],
   "source": [
    "print(\"Python\" == \"Python\")"
   ]
  }
 ],
 "metadata": {
  "kernelspec": {
   "display_name": "Python 3 (ipykernel)",
   "language": "python",
   "name": "python3"
  },
  "language_info": {
   "codemirror_mode": {
    "name": "ipython",
    "version": 3
   },
   "file_extension": ".py",
   "mimetype": "text/x-python",
   "name": "python",
   "nbconvert_exporter": "python",
   "pygments_lexer": "ipython3",
   "version": "3.9.13"
  }
 },
 "nbformat": 4,
 "nbformat_minor": 5
}
