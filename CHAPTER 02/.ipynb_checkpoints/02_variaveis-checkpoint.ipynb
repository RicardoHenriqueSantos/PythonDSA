{
 "cells": [
  {
   "cell_type": "markdown",
   "id": "9192cd10",
   "metadata": {},
   "source": [
    "# CHAPTER 02\n",
    "\n",
    "## Variáveis e Operadores"
   ]
  },
  {
   "cell_type": "code",
   "execution_count": 1,
   "id": "7957355b",
   "metadata": {},
   "outputs": [],
   "source": [
    "# Atribuindo um valor à uma variável com o nome de \"teste\"\n",
    "teste = 79"
   ]
  },
  {
   "cell_type": "code",
   "execution_count": 2,
   "id": "a5d912d3",
   "metadata": {},
   "outputs": [
    {
     "name": "stdout",
     "output_type": "stream",
     "text": [
      "79\n"
     ]
    }
   ],
   "source": [
    "# Imprimindo o valor alocado nesta variável\n",
    "print(teste)"
   ]
  },
  {
   "cell_type": "code",
   "execution_count": 3,
   "id": "8a0f3e8e",
   "metadata": {},
   "outputs": [],
   "source": [
    "# É possível atribuir não somentes números, mas como também Strings\n",
    "teste_string = \"Olá\""
   ]
  },
  {
   "cell_type": "code",
   "execution_count": 4,
   "id": "ebf6800b",
   "metadata": {},
   "outputs": [
    {
     "name": "stdout",
     "output_type": "stream",
     "text": [
      "Olá\n"
     ]
    }
   ],
   "source": [
    "# Imprimindo o valor alocado nesta variável\n",
    "print(teste_string)"
   ]
  },
  {
   "cell_type": "markdown",
   "id": "8544729d",
   "metadata": {},
   "source": [
    "## Declaração Múltipla"
   ]
  },
  {
   "cell_type": "code",
   "execution_count": 5,
   "id": "2f434daf",
   "metadata": {},
   "outputs": [],
   "source": [
    "# É possível declarar várias variáveis em uma mesma linha, atentando-se para a sequência \n",
    "lin1, lin2, lin3 = \"Python\", \"Java\", \"C\""
   ]
  },
  {
   "cell_type": "code",
   "execution_count": 6,
   "id": "5d0d4e79",
   "metadata": {},
   "outputs": [
    {
     "name": "stdout",
     "output_type": "stream",
     "text": [
      "Python\n"
     ]
    }
   ],
   "source": [
    "# Imprimindo o valor de uma das variáveis declaradas\n",
    "print(lin1)"
   ]
  },
  {
   "cell_type": "markdown",
   "id": "1242f04a",
   "metadata": {},
   "source": [
    "## Operações com Variáveis"
   ]
  },
  {
   "cell_type": "code",
   "execution_count": 7,
   "id": "25163748",
   "metadata": {},
   "outputs": [
    {
     "name": "stdout",
     "output_type": "stream",
     "text": [
      "28\n"
     ]
    }
   ],
   "source": [
    "# Realizando uma operação com valores atribuídos\n",
    "data_nasc = 1994\n",
    "data_atual = 2022\n",
    "idade = data_atual - data_nasc\n",
    "print(idade)"
   ]
  },
  {
   "cell_type": "markdown",
   "id": "71b5c988",
   "metadata": {},
   "source": [
    "## Concatenando de Variáveis"
   ]
  },
  {
   "cell_type": "code",
   "execution_count": 8,
   "id": "6612deeb",
   "metadata": {},
   "outputs": [],
   "source": [
    "# Vamos imprimir o nome completo de uma pessoa com variáveis para cada parte do seu nome"
   ]
  },
  {
   "cell_type": "code",
   "execution_count": 9,
   "id": "9d9cd87f",
   "metadata": {},
   "outputs": [],
   "source": [
    "firstname = \"Clark\""
   ]
  },
  {
   "cell_type": "code",
   "execution_count": 10,
   "id": "d32b47f3",
   "metadata": {},
   "outputs": [],
   "source": [
    "midname = \"Joseph\""
   ]
  },
  {
   "cell_type": "code",
   "execution_count": 11,
   "id": "748723d9",
   "metadata": {},
   "outputs": [],
   "source": [
    "lastname = \"Kent\""
   ]
  },
  {
   "cell_type": "code",
   "execution_count": 12,
   "id": "c9317731",
   "metadata": {},
   "outputs": [],
   "source": [
    "fullname = firstname + \" \" + midname + \" \" + lastname"
   ]
  },
  {
   "cell_type": "code",
   "execution_count": 13,
   "id": "7c371f40",
   "metadata": {},
   "outputs": [
    {
     "name": "stdout",
     "output_type": "stream",
     "text": [
      "Clark Joseph Kent\n"
     ]
    }
   ],
   "source": [
    "print(fullname)"
   ]
  },
  {
   "cell_type": "code",
   "execution_count": 14,
   "id": "2301cc7a",
   "metadata": {},
   "outputs": [
    {
     "name": "stdout",
     "output_type": "stream",
     "text": [
      "Clark Joseph Kent\n"
     ]
    }
   ],
   "source": [
    "# Pode-se utilizar uma outra forma de concatenação sem declarar uma variával para juntar todas as variáveis\n",
    "print(f\"{firstname} {midname} {lastname}\")"
   ]
  },
  {
   "cell_type": "markdown",
   "id": "ed3736ab",
   "metadata": {},
   "source": [
    "# THE END"
   ]
  }
 ],
 "metadata": {
  "kernelspec": {
   "display_name": "Python 3 (ipykernel)",
   "language": "python",
   "name": "python3"
  },
  "language_info": {
   "codemirror_mode": {
    "name": "ipython",
    "version": 3
   },
   "file_extension": ".py",
   "mimetype": "text/x-python",
   "name": "python",
   "nbconvert_exporter": "python",
   "pygments_lexer": "ipython3",
   "version": "3.9.13"
  }
 },
 "nbformat": 4,
 "nbformat_minor": 5
}
