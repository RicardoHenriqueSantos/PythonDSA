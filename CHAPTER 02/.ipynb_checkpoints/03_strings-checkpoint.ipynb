{
 "cells": [
  {
   "cell_type": "markdown",
   "id": "447ca17e",
   "metadata": {},
   "source": [
    "# CHAPTER 02\n",
    "## Strings"
   ]
  },
  {
   "cell_type": "code",
   "execution_count": null,
   "id": "df236820",
   "metadata": {},
   "outputs": [],
   "source": [
    "# Atribuindo uma String à uma variável\n",
    "mensagem = \"Brainiac\""
   ]
  },
  {
   "cell_type": "code",
   "execution_count": null,
   "id": "e3e1f0e6",
   "metadata": {},
   "outputs": [],
   "source": [
    "# Imprimindo uma variável\n",
    "print(mensagem)"
   ]
  },
  {
   "cell_type": "code",
   "execution_count": null,
   "id": "c851ed85",
   "metadata": {},
   "outputs": [],
   "source": [
    "# Imprimindo uma mensagem e também com quebraa de linha\n",
    "print(\"Brainiac Vs Superman\")"
   ]
  },
  {
   "cell_type": "code",
   "execution_count": null,
   "id": "cd360621",
   "metadata": {},
   "outputs": [],
   "source": [
    "print(\"Brainiac \\nVs \\nSuperman\")"
   ]
  },
  {
   "cell_type": "markdown",
   "id": "b15f7b3a",
   "metadata": {},
   "source": [
    "## Indexando Strings"
   ]
  },
  {
   "cell_type": "code",
   "execution_count": null,
   "id": "cd7af342",
   "metadata": {},
   "outputs": [],
   "source": [
    "# B R A I N I A C\n",
    "# 0 1 2 3 4 5 6 7"
   ]
  },
  {
   "cell_type": "code",
   "execution_count": null,
   "id": "0c613050",
   "metadata": {},
   "outputs": [],
   "source": [
    "print(mensagem[0])"
   ]
  },
  {
   "cell_type": "code",
   "execution_count": null,
   "id": "2558328c",
   "metadata": {},
   "outputs": [],
   "source": [
    "print(mensagem[3])"
   ]
  },
  {
   "cell_type": "code",
   "execution_count": null,
   "id": "b098873b",
   "metadata": {},
   "outputs": [],
   "source": [
    "print(mensagem[7])"
   ]
  },
  {
   "cell_type": "code",
   "execution_count": null,
   "id": "1fe4d718",
   "metadata": {},
   "outputs": [],
   "source": [
    "# Utilizando \":\" para executar um slicing"
   ]
  },
  {
   "cell_type": "code",
   "execution_count": null,
   "id": "af21c0c0",
   "metadata": {},
   "outputs": [],
   "source": [
    "mensagem[1:]"
   ]
  },
  {
   "cell_type": "code",
   "execution_count": null,
   "id": "df73fad5",
   "metadata": {},
   "outputs": [],
   "source": [
    "mensagem[:5]"
   ]
  },
  {
   "cell_type": "code",
   "execution_count": null,
   "id": "5735ae75",
   "metadata": {},
   "outputs": [],
   "source": [
    "mensagem[-1]"
   ]
  },
  {
   "cell_type": "code",
   "execution_count": null,
   "id": "cfcc6661",
   "metadata": {},
   "outputs": [],
   "source": [
    "mensagem[:-3]"
   ]
  },
  {
   "cell_type": "code",
   "execution_count": null,
   "id": "113daa68",
   "metadata": {},
   "outputs": [],
   "source": [
    "mensagem[::1]"
   ]
  },
  {
   "cell_type": "code",
   "execution_count": null,
   "id": "66e11725",
   "metadata": {},
   "outputs": [],
   "source": [
    "mensagem[::2]"
   ]
  },
  {
   "cell_type": "code",
   "execution_count": null,
   "id": "98a6c7d8",
   "metadata": {},
   "outputs": [],
   "source": [
    "mensagem[::3]"
   ]
  },
  {
   "cell_type": "code",
   "execution_count": null,
   "id": "4fc33cf7",
   "metadata": {},
   "outputs": [],
   "source": [
    "mensagem[::-1]"
   ]
  },
  {
   "cell_type": "markdown",
   "id": "bda7a84e",
   "metadata": {},
   "source": [
    "## Propriedades de Strings"
   ]
  },
  {
   "cell_type": "code",
   "execution_count": null,
   "id": "d4950035",
   "metadata": {},
   "outputs": [],
   "source": [
    "# Podemos usar uma multiplicação para repetições\n",
    "mensagem * 7"
   ]
  },
  {
   "cell_type": "markdown",
   "id": "f091727a",
   "metadata": {},
   "source": [
    "## Funções Built-in de Strings"
   ]
  },
  {
   "cell_type": "code",
   "execution_count": null,
   "id": "2cacec8a",
   "metadata": {},
   "outputs": [],
   "source": [
    "# Upper - Transforma todas as letras da mensagem para maiúsculas\n",
    "mensagem.upper()"
   ]
  },
  {
   "cell_type": "code",
   "execution_count": null,
   "id": "3d1a8947",
   "metadata": {},
   "outputs": [],
   "source": [
    "# Lower - Transforma todas as letras da mensagem para minúsculas\n",
    "mensagem.lower()"
   ]
  },
  {
   "cell_type": "code",
   "execution_count": null,
   "id": "dfc1e875",
   "metadata": {},
   "outputs": [],
   "source": [
    "# Split - Dividir uma String por espaços em branco\n",
    "mensagem.split()"
   ]
  },
  {
   "cell_type": "code",
   "execution_count": null,
   "id": "349cce90",
   "metadata": {},
   "outputs": [],
   "source": [
    "# Dividindo por caractere específico\n",
    "mensagem.split(\"n\")"
   ]
  },
  {
   "cell_type": "markdown",
   "id": "74fa4145",
   "metadata": {},
   "source": [
    "## Funções String"
   ]
  },
  {
   "cell_type": "code",
   "execution_count": null,
   "id": "46668da3",
   "metadata": {},
   "outputs": [],
   "source": [
    "texto = \"welcome to the Python\""
   ]
  },
  {
   "cell_type": "code",
   "execution_count": null,
   "id": "43e91de8",
   "metadata": {},
   "outputs": [],
   "source": [
    "# Transforma a primeira letra do texto em maiúscula\n",
    "texto.capitalize()"
   ]
  },
  {
   "cell_type": "code",
   "execution_count": null,
   "id": "e28cd129",
   "metadata": {},
   "outputs": [],
   "source": [
    "# Contabiliza quantas letras há no texto\n",
    "texto.count(\"t\")"
   ]
  },
  {
   "cell_type": "code",
   "execution_count": null,
   "id": "91d9b5fc",
   "metadata": {},
   "outputs": [],
   "source": [
    "# Busca o index da letra informada\n",
    "texto.find(\"P\")"
   ]
  },
  {
   "cell_type": "markdown",
   "id": "f56d518a",
   "metadata": {},
   "source": [
    "## Comparando Strings"
   ]
  },
  {
   "cell_type": "code",
   "execution_count": null,
   "id": "33e633c6",
   "metadata": {},
   "outputs": [],
   "source": [
    "print(\"Python\" == \"Java\")"
   ]
  },
  {
   "cell_type": "code",
   "execution_count": null,
   "id": "a3a1c594",
   "metadata": {},
   "outputs": [],
   "source": [
    "print(\"Python\" == \"Python\")"
   ]
  },
  {
   "cell_type": "code",
   "execution_count": null,
   "id": "c68b09c7",
   "metadata": {},
   "outputs": [],
   "source": []
  }
 ],
 "metadata": {
  "kernelspec": {
   "display_name": "Python 3 (ipykernel)",
   "language": "python",
   "name": "python3"
  },
  "language_info": {
   "codemirror_mode": {
    "name": "ipython",
    "version": 3
   },
   "file_extension": ".py",
   "mimetype": "text/x-python",
   "name": "python",
   "nbconvert_exporter": "python",
   "pygments_lexer": "ipython3",
   "version": "3.9.13"
  }
 },
 "nbformat": 4,
 "nbformat_minor": 5
}
