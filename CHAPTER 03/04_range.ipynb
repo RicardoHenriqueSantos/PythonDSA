{
 "cells": [
  {
   "cell_type": "markdown",
   "id": "cf67b23c",
   "metadata": {},
   "source": [
    "# CHAPTER 03\n",
    "## Range"
   ]
  },
  {
   "cell_type": "code",
   "execution_count": 3,
   "id": "c697a568",
   "metadata": {},
   "outputs": [
    {
     "name": "stdout",
     "output_type": "stream",
     "text": [
      "0\n",
      "2\n",
      "4\n",
      "6\n",
      "8\n",
      "10\n",
      "12\n",
      "14\n",
      "16\n",
      "18\n",
      "20\n"
     ]
    }
   ],
   "source": [
    "# Imprimindo números pares de 0 até 20\n",
    "for cont in range (0, 22, 2):\n",
    "    print(cont)"
   ]
  },
  {
   "cell_type": "code",
   "execution_count": 7,
   "id": "3d78983f",
   "metadata": {},
   "outputs": [
    {
     "name": "stdout",
     "output_type": "stream",
     "text": [
      "Python\n",
      "MySQL\n",
      "Java\n"
     ]
    }
   ],
   "source": [
    "# Imprimindo todos os elementos de uma lista com range\n",
    "lista = [\"Python\", \"MySQL\", \"Java\"]\n",
    "tamanho = len(lista)\n",
    "for item in range(0, tamanho):\n",
    "    print(lista[item])"
   ]
  },
  {
   "cell_type": "code",
   "execution_count": null,
   "id": "a27fbeea",
   "metadata": {},
   "outputs": [],
   "source": [
    "# THE END"
   ]
  }
 ],
 "metadata": {
  "kernelspec": {
   "display_name": "Python 3 (ipykernel)",
   "language": "python",
   "name": "python3"
  },
  "language_info": {
   "codemirror_mode": {
    "name": "ipython",
    "version": 3
   },
   "file_extension": ".py",
   "mimetype": "text/x-python",
   "name": "python",
   "nbconvert_exporter": "python",
   "pygments_lexer": "ipython3",
   "version": "3.9.13"
  }
 },
 "nbformat": 4,
 "nbformat_minor": 5
}
