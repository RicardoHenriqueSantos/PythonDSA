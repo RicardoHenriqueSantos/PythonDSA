{
 "cells": [
  {
   "cell_type": "markdown",
   "id": "f49563e4",
   "metadata": {},
   "source": [
    "### Variáveis e Operadores"
   ]
  },
  {
   "cell_type": "code",
   "execution_count": null,
   "id": "d0c73f3b",
   "metadata": {},
   "outputs": [],
   "source": [
    "# Atribuindo um valor à uma variável com o nome de \"teste\"\n",
    "teste = 79"
   ]
  },
  {
   "cell_type": "code",
   "execution_count": null,
   "id": "c28face3",
   "metadata": {},
   "outputs": [],
   "source": [
    "# Imprimindo o valor alocado nesta variável\n",
    "print(teste)"
   ]
  },
  {
   "cell_type": "code",
   "execution_count": null,
   "id": "c832d292",
   "metadata": {},
   "outputs": [],
   "source": [
    "# É possível atribuir não somentes números, mas como também Strings\n",
    "teste_string = \"Olá\""
   ]
  },
  {
   "cell_type": "code",
   "execution_count": null,
   "id": "bc28d942",
   "metadata": {},
   "outputs": [],
   "source": [
    "# Imprimindo o valor alocado nesta variável\n",
    "print(teste_string)"
   ]
  },
  {
   "cell_type": "markdown",
   "id": "41683ed3",
   "metadata": {},
   "source": [
    "### Declaração Múltipla"
   ]
  },
  {
   "cell_type": "code",
   "execution_count": null,
   "id": "800cc35b",
   "metadata": {},
   "outputs": [],
   "source": [
    "# É possível declarar várias variáveis em uma mesma linha, atentando-se para a sequência \n",
    "lin1, lin2, lin3 = \"Python\", \"Java\", \"C\""
   ]
  },
  {
   "cell_type": "code",
   "execution_count": null,
   "id": "0564170d",
   "metadata": {},
   "outputs": [],
   "source": [
    "# Imprimindo o valor de uma das variáveis declaradas\n",
    "print(lin1)"
   ]
  },
  {
   "cell_type": "markdown",
   "id": "ba122794",
   "metadata": {},
   "source": [
    "### Operações com Variáveis"
   ]
  },
  {
   "cell_type": "code",
   "execution_count": null,
   "id": "bb12f5c0",
   "metadata": {},
   "outputs": [],
   "source": [
    "# Realizando uma operação com valores atribuídos\n",
    "data_nasc = 1994\n",
    "data_atual = 2022\n",
    "idade = data_atual - data_nasc\n",
    "print(idade)"
   ]
  },
  {
   "cell_type": "markdown",
   "id": "5e9e81a8",
   "metadata": {},
   "source": [
    "### Concatenando de Variáveis"
   ]
  },
  {
   "cell_type": "code",
   "execution_count": null,
   "id": "1c7f1675",
   "metadata": {},
   "outputs": [],
   "source": [
    "# Vamos imprimir o nome completo de uma pessoa com variáveis para cada parte do seu nome"
   ]
  },
  {
   "cell_type": "code",
   "execution_count": null,
   "id": "9fb3eeb5",
   "metadata": {},
   "outputs": [],
   "source": [
    "firstname = \"Clark\""
   ]
  },
  {
   "cell_type": "code",
   "execution_count": null,
   "id": "edceed62",
   "metadata": {},
   "outputs": [],
   "source": [
    "midname = \"Joseph\""
   ]
  },
  {
   "cell_type": "code",
   "execution_count": null,
   "id": "5058f443",
   "metadata": {},
   "outputs": [],
   "source": [
    "lastname = \"Kent\""
   ]
  },
  {
   "cell_type": "code",
   "execution_count": null,
   "id": "6242cc92",
   "metadata": {},
   "outputs": [],
   "source": [
    "fullname = firstname + \" \" + midname + \" \" + lastname"
   ]
  },
  {
   "cell_type": "code",
   "execution_count": null,
   "id": "7c5508a7",
   "metadata": {},
   "outputs": [],
   "source": [
    "print(fullname)"
   ]
  },
  {
   "cell_type": "code",
   "execution_count": null,
   "id": "18ff4cf4",
   "metadata": {},
   "outputs": [],
   "source": [
    "# Pode-se utilizar uma outra forma de concatenação sem declarar uma variával para juntar todas as variáveis\n",
    "print(f\"{firstname} {midname} {lastname}\")"
   ]
  }
 ],
 "metadata": {
  "kernelspec": {
   "display_name": "Python 3 (ipykernel)",
   "language": "python",
   "name": "python3"
  },
  "language_info": {
   "codemirror_mode": {
    "name": "ipython",
    "version": 3
   },
   "file_extension": ".py",
   "mimetype": "text/x-python",
   "name": "python",
   "nbconvert_exporter": "python",
   "pygments_lexer": "ipython3",
   "version": "3.9.13"
  }
 },
 "nbformat": 4,
 "nbformat_minor": 5
}
