{
 "cells": [
  {
   "cell_type": "markdown",
   "id": "45f48234",
   "metadata": {},
   "source": [
    "# CHAPTER 02\n",
    "## Tuplas"
   ]
  },
  {
   "cell_type": "code",
   "execution_count": 1,
   "id": "23e3f4ae",
   "metadata": {},
   "outputs": [
    {
     "data": {
      "text/plain": [
       "('Death Metal', 'Thrash Metal', 'Black Metal')"
      ]
     },
     "execution_count": 1,
     "metadata": {},
     "output_type": "execute_result"
    }
   ],
   "source": [
    "# Criando uma tupla\n",
    "estilos = (\"Death Metal\", \"Thrash Metal\", \"Black Metal\")\n",
    "estilos"
   ]
  },
  {
   "cell_type": "code",
   "execution_count": 2,
   "id": "8e728a52",
   "metadata": {},
   "outputs": [],
   "source": [
    "# Deletando uma tupla\n",
    "del estilos"
   ]
  },
  {
   "cell_type": "code",
   "execution_count": 4,
   "id": "7f7b4686",
   "metadata": {},
   "outputs": [
    {
     "name": "stdout",
     "output_type": "stream",
     "text": [
      "<class 'list'>\n"
     ]
    }
   ],
   "source": [
    "# Como a tupla não se é possível: atribuições, inserções, edições ou deletar algum item, pode-se converter em uma lista\n",
    "tupla = (\"Doom Metal\")\n",
    "lista = list(tupla)\n",
    "print(type(lista))"
   ]
  },
  {
   "cell_type": "code",
   "execution_count": null,
   "id": "ce499d2d",
   "metadata": {},
   "outputs": [],
   "source": []
  }
 ],
 "metadata": {
  "kernelspec": {
   "display_name": "Python 3 (ipykernel)",
   "language": "python",
   "name": "python3"
  },
  "language_info": {
   "codemirror_mode": {
    "name": "ipython",
    "version": 3
   },
   "file_extension": ".py",
   "mimetype": "text/x-python",
   "name": "python",
   "nbconvert_exporter": "python",
   "pygments_lexer": "ipython3",
   "version": "3.9.13"
  }
 },
 "nbformat": 4,
 "nbformat_minor": 5
}
