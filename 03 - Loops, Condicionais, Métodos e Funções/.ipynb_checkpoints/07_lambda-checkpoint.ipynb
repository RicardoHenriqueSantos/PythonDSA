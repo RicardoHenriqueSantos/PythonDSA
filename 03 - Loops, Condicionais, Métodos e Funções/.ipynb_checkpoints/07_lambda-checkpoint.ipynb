{
 "cells": [
  {
   "cell_type": "markdown",
   "id": "03e25e2a",
   "metadata": {},
   "source": [
    "### Lambda"
   ]
  },
  {
   "cell_type": "code",
   "execution_count": null,
   "id": "bd82c141",
   "metadata": {},
   "outputs": [],
   "source": [
    "# Definindo uma função Lambda\n",
    "mult = lambda n1, n2: n1 * n2\n",
    "num1 = int(input(\"Insira um número: \"))\n",
    "num2 = int(input(\"Insira outro número: \"))\n",
    "mult(num1, num2)"
   ]
  },
  {
   "cell_type": "code",
   "execution_count": null,
   "id": "48b9939a",
   "metadata": {},
   "outputs": [],
   "source": [
    "# Definindo uma função Lambda para analisar se o número é par\n",
    "par = lambda num: num%2 == 0\n",
    "numero = int(input(\"Insira um número: \"))\n",
    "par(numero)"
   ]
  }
 ],
 "metadata": {
  "kernelspec": {
   "display_name": "Python 3 (ipykernel)",
   "language": "python",
   "name": "python3"
  },
  "language_info": {
   "codemirror_mode": {
    "name": "ipython",
    "version": 3
   },
   "file_extension": ".py",
   "mimetype": "text/x-python",
   "name": "python",
   "nbconvert_exporter": "python",
   "pygments_lexer": "ipython3",
   "version": "3.9.13"
  }
 },
 "nbformat": 4,
 "nbformat_minor": 5
}
