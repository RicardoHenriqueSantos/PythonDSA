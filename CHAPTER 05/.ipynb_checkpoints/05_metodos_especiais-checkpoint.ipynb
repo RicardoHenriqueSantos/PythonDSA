{
 "cells": [
  {
   "cell_type": "markdown",
   "id": "7076043e",
   "metadata": {},
   "source": [
    "### Métodos Especiais"
   ]
  },
  {
   "cell_type": "code",
   "execution_count": null,
   "id": "69a5cbca",
   "metadata": {},
   "outputs": [],
   "source": [
    "# Criando a classe Livro\n",
    "class Livro():\n",
    "    def __init__(self, titulo, autor, paginas):\n",
    "        print (\"Livro criado\")\n",
    "        self.titulo = titulo\n",
    "        self.autor = autor\n",
    "        self.paginas = paginas                \n",
    "    def __str__(self):\n",
    "        return \"Título: %s , autor: %s, páginas: %s \" %(self.titulo, self.autor, self.paginas)\n",
    "    def __len__(self):\n",
    "        return self.paginas\n",
    "    def len(self):\n",
    "        return print(\"Páginas do livro com método comum: \", self.paginas)"
   ]
  },
  {
   "cell_type": "code",
   "execution_count": null,
   "id": "44822795",
   "metadata": {},
   "outputs": [],
   "source": [
    "livro1 = Livro(\"O Hobbit\", \"Tolkien\", 310)"
   ]
  },
  {
   "cell_type": "code",
   "execution_count": null,
   "id": "894790ab",
   "metadata": {},
   "outputs": [],
   "source": [
    "# Métodos especiais\n",
    "print(livro1)"
   ]
  },
  {
   "cell_type": "code",
   "execution_count": null,
   "id": "a633dc5c",
   "metadata": {},
   "outputs": [],
   "source": [
    "str(livro1)"
   ]
  },
  {
   "cell_type": "code",
   "execution_count": null,
   "id": "efc78f21",
   "metadata": {},
   "outputs": [],
   "source": [
    "len(livro1)"
   ]
  },
  {
   "cell_type": "code",
   "execution_count": null,
   "id": "1ee93e28",
   "metadata": {},
   "outputs": [],
   "source": [
    "livro1.len()"
   ]
  },
  {
   "cell_type": "code",
   "execution_count": null,
   "id": "787da0b1",
   "metadata": {},
   "outputs": [],
   "source": [
    "# Ao executar a função del para remover um atributo, o Python executa:\n",
    "# livro1.__delattr__(\"paginas\")\n",
    "del livro1.paginas"
   ]
  },
  {
   "cell_type": "code",
   "execution_count": null,
   "id": "b006f13b",
   "metadata": {},
   "outputs": [],
   "source": [
    "hasattr(livro1, \"paginas\")"
   ]
  }
 ],
 "metadata": {
  "kernelspec": {
   "display_name": "Python 3 (ipykernel)",
   "language": "python",
   "name": "python3"
  },
  "language_info": {
   "codemirror_mode": {
    "name": "ipython",
    "version": 3
   },
   "file_extension": ".py",
   "mimetype": "text/x-python",
   "name": "python",
   "nbconvert_exporter": "python",
   "pygments_lexer": "ipython3",
   "version": "3.9.13"
  }
 },
 "nbformat": 4,
 "nbformat_minor": 5
}
