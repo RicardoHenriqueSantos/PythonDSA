{
 "cells": [
  {
   "cell_type": "markdown",
   "id": "bb2d64da",
   "metadata": {},
   "source": [
    "# CHAPTER 02\n",
    "## Números e Operações Matemáticas"
   ]
  },
  {
   "cell_type": "code",
   "execution_count": null,
   "id": "e65539c3",
   "metadata": {},
   "outputs": [],
   "source": [
    "# Soma\n",
    "7 + 9"
   ]
  },
  {
   "cell_type": "code",
   "execution_count": null,
   "id": "5ca4b80b",
   "metadata": {},
   "outputs": [],
   "source": [
    "# Subtração\n",
    "9 - 7"
   ]
  },
  {
   "cell_type": "code",
   "execution_count": null,
   "id": "676be604",
   "metadata": {},
   "outputs": [],
   "source": [
    "# Multiplicação\n",
    "7 * 9"
   ]
  },
  {
   "cell_type": "code",
   "execution_count": null,
   "id": "d321f25b",
   "metadata": {},
   "outputs": [],
   "source": [
    "# Divisão\n",
    "9 / 7"
   ]
  },
  {
   "cell_type": "code",
   "execution_count": null,
   "id": "fb910bc0",
   "metadata": {},
   "outputs": [],
   "source": [
    "# Divisão resultando em número inteiro\n",
    "\n",
    "9 // 7"
   ]
  },
  {
   "cell_type": "code",
   "execution_count": null,
   "id": "4a78bf23",
   "metadata": {},
   "outputs": [],
   "source": [
    "# Potência\n",
    "9 ** 7"
   ]
  },
  {
   "cell_type": "code",
   "execution_count": null,
   "id": "f3fd4efc",
   "metadata": {},
   "outputs": [],
   "source": [
    "# Módulo\n",
    "9 % 7"
   ]
  },
  {
   "cell_type": "markdown",
   "id": "4c604e4b",
   "metadata": {},
   "source": [
    "## Funções"
   ]
  },
  {
   "cell_type": "code",
   "execution_count": null,
   "id": "16eb7c95",
   "metadata": {},
   "outputs": [],
   "source": [
    "# Type - Verificar qual o tipo de um número ou variável\n",
    "\n",
    "type(7)"
   ]
  },
  {
   "cell_type": "code",
   "execution_count": null,
   "id": "de0fd57d",
   "metadata": {},
   "outputs": [],
   "source": [
    "type(9.7)"
   ]
  },
  {
   "cell_type": "code",
   "execution_count": null,
   "id": "20e68a3a",
   "metadata": {},
   "outputs": [],
   "source": [
    "mensagem = \"Hi!\"\n",
    "type(mensagem)"
   ]
  },
  {
   "cell_type": "markdown",
   "id": "46ddbf05",
   "metadata": {},
   "source": [
    "## Conversão"
   ]
  },
  {
   "cell_type": "code",
   "execution_count": null,
   "id": "38ced27f",
   "metadata": {},
   "outputs": [],
   "source": [
    "int(7.9)"
   ]
  },
  {
   "cell_type": "markdown",
   "id": "22efba9a",
   "metadata": {},
   "source": [
    "## Hexadecimal e Binário"
   ]
  },
  {
   "cell_type": "code",
   "execution_count": null,
   "id": "3b7e7c14",
   "metadata": {},
   "outputs": [],
   "source": [
    "hex(7)"
   ]
  },
  {
   "cell_type": "code",
   "execution_count": null,
   "id": "b6c92745",
   "metadata": {},
   "outputs": [],
   "source": [
    "bin(9)"
   ]
  },
  {
   "cell_type": "markdown",
   "id": "fc445933",
   "metadata": {},
   "source": [
    "## Funções abs, round e pow"
   ]
  },
  {
   "cell_type": "code",
   "execution_count": null,
   "id": "297b6264",
   "metadata": {},
   "outputs": [],
   "source": [
    "# Retorna um valor absoluto\n",
    "\n",
    "abs(-9)"
   ]
  },
  {
   "cell_type": "code",
   "execution_count": null,
   "id": "186dbb76",
   "metadata": {},
   "outputs": [],
   "source": [
    "abs(9)"
   ]
  },
  {
   "cell_type": "code",
   "execution_count": null,
   "id": "2c8125ff",
   "metadata": {},
   "outputs": [],
   "source": [
    "# Retorna o valor arredondado \n",
    "\n",
    "round(7.97123456789)"
   ]
  },
  {
   "cell_type": "code",
   "execution_count": null,
   "id": "aeddc074",
   "metadata": {},
   "outputs": [],
   "source": [
    "# Potência\n",
    "\n",
    "pow(7, 9)"
   ]
  },
  {
   "cell_type": "markdown",
   "id": "483838e9",
   "metadata": {},
   "source": [
    "# THE END"
   ]
  }
 ],
 "metadata": {
  "kernelspec": {
   "display_name": "Python 3 (ipykernel)",
   "language": "python",
   "name": "python3"
  },
  "language_info": {
   "codemirror_mode": {
    "name": "ipython",
    "version": 3
   },
   "file_extension": ".py",
   "mimetype": "text/x-python",
   "name": "python",
   "nbconvert_exporter": "python",
   "pygments_lexer": "ipython3",
   "version": "3.9.13"
  }
 },
 "nbformat": 4,
 "nbformat_minor": 5
}
