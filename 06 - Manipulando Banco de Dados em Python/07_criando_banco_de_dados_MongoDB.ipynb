{
 "cells": [
  {
   "cell_type": "markdown",
   "id": "e04c218b",
   "metadata": {},
   "source": [
    "### Gravando Dados no MongoDB com PyMongo"
   ]
  },
  {
   "cell_type": "code",
   "execution_count": 1,
   "id": "9e893a82",
   "metadata": {},
   "outputs": [],
   "source": [
    "# Instala o pacote pymongo para conectar no banco de dados MongoDB\n",
    "!pip install -q pymongo"
   ]
  },
  {
   "cell_type": "code",
   "execution_count": 2,
   "id": "b0d5ada7",
   "metadata": {},
   "outputs": [],
   "source": [
    "# Importamos o MongoClient para conectar nossa aplicação ao MongoDB\n",
    "from pymongo import MongoClient"
   ]
  },
  {
   "cell_type": "code",
   "execution_count": 3,
   "id": "32518d5a",
   "metadata": {},
   "outputs": [],
   "source": [
    "# Estabelecemos a conexão ao Banco de Dados\n",
    "conexao = MongoClient('localhost', 27017)"
   ]
  },
  {
   "cell_type": "code",
   "execution_count": 4,
   "id": "a6e4b8ec",
   "metadata": {},
   "outputs": [
    {
     "data": {
      "text/plain": [
       "pymongo.mongo_client.MongoClient"
      ]
     },
     "execution_count": 4,
     "metadata": {},
     "output_type": "execute_result"
    }
   ],
   "source": [
    "type(conexao)"
   ]
  },
  {
   "cell_type": "code",
   "execution_count": 5,
   "id": "a9ce8230",
   "metadata": {},
   "outputs": [],
   "source": [
    "# Uma única instância do MongoDB pode suportar diversos bancos de dados. \n",
    "# Vamos criar o banco de dados \"cadastrodb\"\n",
    "db = conexao.cadastrodb"
   ]
  },
  {
   "cell_type": "code",
   "execution_count": 6,
   "id": "bfbe46da",
   "metadata": {},
   "outputs": [
    {
     "data": {
      "text/plain": [
       "pymongo.database.Database"
      ]
     },
     "execution_count": 6,
     "metadata": {},
     "output_type": "execute_result"
    }
   ],
   "source": [
    "type(db)"
   ]
  },
  {
   "cell_type": "code",
   "execution_count": 7,
   "id": "debf1cde",
   "metadata": {},
   "outputs": [],
   "source": [
    "# Uma coleção é um grupo de documentos armazenados no MongoDB \n",
    "# (relativamente parecido com o conceito de tabelas em bancos relacionais)\n",
    "colecao = db.cadastrodb"
   ]
  },
  {
   "cell_type": "code",
   "execution_count": 8,
   "id": "09d02893",
   "metadata": {},
   "outputs": [
    {
     "data": {
      "text/plain": [
       "pymongo.collection.Collection"
      ]
     },
     "execution_count": 8,
     "metadata": {},
     "output_type": "execute_result"
    }
   ],
   "source": [
    "type(colecao)"
   ]
  },
  {
   "cell_type": "raw",
   "id": "47e66598",
   "metadata": {},
   "source": [
    "Uma nota importante sobre coleções (e bancos de dados) no MongoDB é que eles são criados posteriormente - nenhum dos comandos acima executou efetivamente qualquer operação no servidor MongoDB. Coleções e bancos de dados são criados quando o primeiro documento é inserido."
   ]
  },
  {
   "cell_type": "code",
   "execution_count": 9,
   "id": "f4bb8809",
   "metadata": {},
   "outputs": [],
   "source": [
    "import datetime"
   ]
  },
  {
   "cell_type": "code",
   "execution_count": 10,
   "id": "3a0a0700",
   "metadata": {},
   "outputs": [],
   "source": [
    "doc1 = {\"codigo\": \"ID-9987725\",\n",
    "        \"prod_name\": \"Geladeira\",\n",
    "        \"marcas\": [\"brastemp\", \"consul\", \"elecrolux\"],\n",
    "        \"data_cadastro\": datetime.datetime.utcnow()}"
   ]
  },
  {
   "cell_type": "code",
   "execution_count": 11,
   "id": "ebd921bd",
   "metadata": {},
   "outputs": [
    {
     "data": {
      "text/plain": [
       "dict"
      ]
     },
     "execution_count": 11,
     "metadata": {},
     "output_type": "execute_result"
    }
   ],
   "source": [
    "type(doc1)"
   ]
  },
  {
   "cell_type": "code",
   "execution_count": 12,
   "id": "88bdb695",
   "metadata": {},
   "outputs": [],
   "source": [
    "colecao = db.posts"
   ]
  },
  {
   "cell_type": "code",
   "execution_count": 14,
   "id": "226a37c9",
   "metadata": {},
   "outputs": [],
   "source": [
    "post_id = colecao.insert_one(doc1).inserted_id"
   ]
  },
  {
   "cell_type": "code",
   "execution_count": 15,
   "id": "690d1459",
   "metadata": {},
   "outputs": [
    {
     "data": {
      "text/plain": [
       "ObjectId('638d281ce864ee8824b4d0f9')"
      ]
     },
     "execution_count": 15,
     "metadata": {},
     "output_type": "execute_result"
    }
   ],
   "source": [
    "# Quando um documento é inserido uma chave especial, \"_id\", é adicionada \n",
    "# automaticamente se o documento ainda não contém uma chave \"_id\".\n",
    "post_id"
   ]
  },
  {
   "cell_type": "code",
   "execution_count": 16,
   "id": "61121385",
   "metadata": {},
   "outputs": [],
   "source": [
    "doc2 = {\"codigo\": \"ID-2209876\",\n",
    "        \"prod_name\": \"Televisor\",\n",
    "        \"marcas\": [\"samsung\", \"panasonic\", \"lg\"],\n",
    "        \"data_cadastro\": datetime.datetime.utcnow()}"
   ]
  },
  {
   "cell_type": "code",
   "execution_count": 17,
   "id": "9a0dde0b",
   "metadata": {},
   "outputs": [],
   "source": [
    "colecao = db.posts"
   ]
  },
  {
   "cell_type": "code",
   "execution_count": 18,
   "id": "604ac2d4",
   "metadata": {},
   "outputs": [],
   "source": [
    "post_id = colecao.insert_one(doc2).inserted_id"
   ]
  },
  {
   "cell_type": "code",
   "execution_count": 19,
   "id": "75af0fec",
   "metadata": {},
   "outputs": [
    {
     "data": {
      "text/plain": [
       "ObjectId('638d282ce864ee8824b4d0fa')"
      ]
     },
     "execution_count": 19,
     "metadata": {},
     "output_type": "execute_result"
    }
   ],
   "source": [
    "post_id"
   ]
  },
  {
   "cell_type": "code",
   "execution_count": 20,
   "id": "54c0781b",
   "metadata": {},
   "outputs": [
    {
     "data": {
      "text/plain": [
       "{'_id': ObjectId('638d282ce864ee8824b4d0fa'),\n",
       " 'codigo': 'ID-2209876',\n",
       " 'prod_name': 'Televisor',\n",
       " 'marcas': ['samsung', 'panasonic', 'lg'],\n",
       " 'data_cadastro': datetime.datetime(2022, 12, 4, 23, 7, 17, 281000)}"
      ]
     },
     "execution_count": 20,
     "metadata": {},
     "output_type": "execute_result"
    }
   ],
   "source": [
    "colecao.find_one({\"prod_name\": \"Televisor\"}) "
   ]
  },
  {
   "cell_type": "code",
   "execution_count": 21,
   "id": "64f3dfbb",
   "metadata": {},
   "outputs": [
    {
     "name": "stdout",
     "output_type": "stream",
     "text": [
      "{'_id': ObjectId('638d281ce864ee8824b4d0f9'), 'codigo': 'ID-9987725', 'prod_name': 'Geladeira', 'marcas': ['brastemp', 'consul', 'elecrolux'], 'data_cadastro': datetime.datetime(2022, 12, 4, 23, 6, 50, 737000)}\n",
      "{'_id': ObjectId('638d282ce864ee8824b4d0fa'), 'codigo': 'ID-2209876', 'prod_name': 'Televisor', 'marcas': ['samsung', 'panasonic', 'lg'], 'data_cadastro': datetime.datetime(2022, 12, 4, 23, 7, 17, 281000)}\n"
     ]
    }
   ],
   "source": [
    "# A função find() retorna um cursor e podemos então navegar pelos dados\n",
    "for post in colecao.find():\n",
    "    print(post)"
   ]
  },
  {
   "cell_type": "code",
   "execution_count": 22,
   "id": "32d5115b",
   "metadata": {},
   "outputs": [
    {
     "data": {
      "text/plain": [
       "'cadastrodb'"
      ]
     },
     "execution_count": 22,
     "metadata": {},
     "output_type": "execute_result"
    }
   ],
   "source": [
    "# Verificando o nome do banco de dados\n",
    "db.name"
   ]
  },
  {
   "cell_type": "code",
   "execution_count": 23,
   "id": "85b173bb",
   "metadata": {},
   "outputs": [
    {
     "data": {
      "text/plain": [
       "['posts']"
      ]
     },
     "execution_count": 23,
     "metadata": {},
     "output_type": "execute_result"
    }
   ],
   "source": [
    "# Listando as coleções disponíveis\n",
    "# db.collection_names()\n",
    "db.list_collection_names()"
   ]
  }
 ],
 "metadata": {
  "kernelspec": {
   "display_name": "Python 3 (ipykernel)",
   "language": "python",
   "name": "python3"
  },
  "language_info": {
   "codemirror_mode": {
    "name": "ipython",
    "version": 3
   },
   "file_extension": ".py",
   "mimetype": "text/x-python",
   "name": "python",
   "nbconvert_exporter": "python",
   "pygments_lexer": "ipython3",
   "version": "3.9.13"
  }
 },
 "nbformat": 4,
 "nbformat_minor": 5
}
