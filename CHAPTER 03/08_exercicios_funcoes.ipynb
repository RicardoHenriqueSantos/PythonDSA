{
 "cells": [
  {
   "cell_type": "markdown",
   "id": "72bcab0c",
   "metadata": {},
   "source": [
    "### Exercícios Funções"
   ]
  },
  {
   "cell_type": "markdown",
   "id": "3fede1fc",
   "metadata": {},
   "source": [
    "#### Exercício 1 - Crie uma função que imprima a sequência de números pares entre 1 e 20 (a função não recebe parâmetro) e depois faça uma chamada à função para listar os números."
   ]
  },
  {
   "cell_type": "code",
   "execution_count": null,
   "id": "1db4a164",
   "metadata": {},
   "outputs": [],
   "source": [
    "def num_pares():\n",
    "    for cont in range (1,21):\n",
    "        if cont % 2 == 0:\n",
    "            print(cont)\n",
    "num_pares()\n",
    "    "
   ]
  },
  {
   "cell_type": "markdown",
   "id": "976cfd78",
   "metadata": {},
   "source": [
    "#### Exercício 2 - Crie uam função que receba uma string como argumento e retorne a mesma string em letras maiúsculas. Faça uma chamada à função, passando como parâmetro uma string."
   ]
  },
  {
   "cell_type": "code",
   "execution_count": null,
   "id": "65cd5f83",
   "metadata": {},
   "outputs": [],
   "source": [
    "def maiuscula(mensagem):\n",
    "    print(mensagem.upper())\n",
    "texto = input(\"Insira uma mensagem: \")\n",
    "maiuscula(texto)"
   ]
  },
  {
   "cell_type": "markdown",
   "id": "3c99d92f",
   "metadata": {},
   "source": [
    "#### Exercício 3 - Crie uma função que receba como parâmetro uma lista de 4 elementos, adicione 2 elementos a lista e imprima a lista."
   ]
  },
  {
   "cell_type": "code",
   "execution_count": null,
   "id": "d3101073",
   "metadata": {},
   "outputs": [],
   "source": [
    "def adc_lista(elem1, elem2):\n",
    "    lista.append(elem1)\n",
    "    lista.append(elem2)\n",
    "    print(lista)\n",
    "lista = [1, 2, 3, 4]\n",
    "adc_lista(5, 6)"
   ]
  },
  {
   "cell_type": "markdown",
   "id": "8b1f3dc5",
   "metadata": {},
   "source": [
    "#### Exercício 4 - Crie uma função que receba um argumento formal e uma possível lista de elementos. Faça duas chamadas à função, com apenas 1 elemento e na segunda chamada com 4 elementos."
   ]
  },
  {
   "cell_type": "code",
   "execution_count": null,
   "id": "37e77b2d",
   "metadata": {},
   "outputs": [],
   "source": [
    "def call_num(arg1, *lista):\n",
    "    print(arg1)\n",
    "    for cont in lista:\n",
    "        print(cont)\n",
    "call_num(79)\n",
    "call_num(\"Python\", \"MySQL\", \"Pandas\", \"API\")"
   ]
  },
  {
   "cell_type": "markdown",
   "id": "93433cb5",
   "metadata": {},
   "source": [
    "#### Exercício 5 - Crie uma função anônima e atribua seu retorno a uma variável chamada soma. A expressão vai receber 2 números como parâmetro e retornar a soma deles."
   ]
  },
  {
   "cell_type": "code",
   "execution_count": null,
   "id": "6c07c478",
   "metadata": {},
   "outputs": [],
   "source": [
    "soma = lambda n1, n2: n1 + n2\n",
    "soma(7, 9)"
   ]
  },
  {
   "cell_type": "markdown",
   "id": "eb11fd8a",
   "metadata": {},
   "source": [
    "#### Exercício 6 - Execute o código abaixo e certifique-se que compreende a diferença entre variável global e local."
   ]
  },
  {
   "cell_type": "code",
   "execution_count": null,
   "id": "f5467cba",
   "metadata": {},
   "outputs": [],
   "source": [
    "total = 0 # Variável Global\n",
    "def soma( arg1, arg2 ):\n",
    "    total = arg1 + arg2; \n",
    "    print (f\"Resultado da função: {total}\") # Variável Local\n",
    "    return total;\n",
    "soma(7, 9);\n",
    "print (f\"Resultado fora da função: {total}\")"
   ]
  },
  {
   "cell_type": "markdown",
   "id": "369d3c53",
   "metadata": {},
   "source": [
    "#### Exercício 7 - Abaixo você encontra uma lista com temperaturas em graus Celsius.\n",
    "#### Crie uma função anônima que converta cada temperatura para Fahrenheit\n",
    "#### Dica: para conseguir realizar este exercício, você deve criar sua função lambda, dentro de uma função (que será estudada no próximo capítulo). Isso permite aplicar sua função a cada elemento da lista.\n",
    "#### Como descobrir a fórmula matemática que converte de Celsius para Fahrenheit? Pesquise!"
   ]
  },
  {
   "cell_type": "code",
   "execution_count": null,
   "id": "ae964d66",
   "metadata": {},
   "outputs": [],
   "source": [
    "celsius = [39.2, 36.5, 37.3, 37.8]\n",
    "print(celsius)\n",
    "fahahrenheit = map(lambda celsius: (celsius * 1.8) + 32, celsius)\n",
    "print(list(fahahrenheit))"
   ]
  },
  {
   "cell_type": "markdown",
   "id": "421c02a2",
   "metadata": {},
   "source": [
    "#### Exercício 8 - Crie um dicionário e liste todos os métodos e atributos do dicionário"
   ]
  },
  {
   "cell_type": "code",
   "execution_count": null,
   "id": "df103475",
   "metadata": {},
   "outputs": [],
   "source": [
    "exe_dict = {\"Python\": 10, \"MySQL\": 10}\n",
    "dir(exe_dict)"
   ]
  },
  {
   "cell_type": "markdown",
   "id": "d6ea0bcc",
   "metadata": {},
   "source": [
    "#### Exercício 9 - Abaixo você encontra a importação do Pandas, um dos principais pacotes Python para análise de dados. Analise atentamente todos os métodos disponíveis. Um deles você vai usar no próximo exercício."
   ]
  },
  {
   "cell_type": "code",
   "execution_count": null,
   "id": "99a49728",
   "metadata": {},
   "outputs": [],
   "source": [
    "import pandas as pd\n",
    "dir(pd)"
   ]
  },
  {
   "cell_type": "markdown",
   "id": "6eba64df",
   "metadata": {},
   "source": [
    "#### ************* Desafio ************* (pesquise na documentação Python)\n",
    "#### Exercício 10 - Crie uma função que receba o arquivo abaixo como argumento e retorne um resumo estatístico descritivo do arquivo. Dica, use Pandas e um de seus métodos, describe().\n",
    "#### Arquivo: \"binary.csv\""
   ]
  },
  {
   "cell_type": "code",
   "execution_count": null,
   "id": "ec756e93",
   "metadata": {},
   "outputs": [],
   "source": [
    "arquivo = \"binary.csv\"\n",
    "def descr_csv(arquivo):\n",
    "    csv = pd.read_csv(arquivo)\n",
    "    return csv.describe()\n",
    "descr_csv(arquivo)"
   ]
  }
 ],
 "metadata": {
  "kernelspec": {
   "display_name": "Python 3 (ipykernel)",
   "language": "python",
   "name": "python3"
  },
  "language_info": {
   "codemirror_mode": {
    "name": "ipython",
    "version": 3
   },
   "file_extension": ".py",
   "mimetype": "text/x-python",
   "name": "python",
   "nbconvert_exporter": "python",
   "pygments_lexer": "ipython3",
   "version": "3.9.13"
  }
 },
 "nbformat": 4,
 "nbformat_minor": 5
}
